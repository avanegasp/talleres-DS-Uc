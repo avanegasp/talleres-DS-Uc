{
  "nbformat": 4,
  "nbformat_minor": 0,
  "metadata": {
    "colab": {
      "provenance": [],
      "include_colab_link": true
    },
    "kernelspec": {
      "name": "python3",
      "display_name": "Python 3"
    },
    "language_info": {
      "name": "python"
    }
  },
  "cells": [
    {
      "cell_type": "markdown",
      "metadata": {
        "id": "view-in-github",
        "colab_type": "text"
      },
      "source": [
        "<a href=\"https://colab.research.google.com/github/avanegasp/talleres-DS-Uc/blob/main/Copia_de_M4_Limpieza_Valores_faltantes_y_at%C3%ADpicos.ipynb\" target=\"_parent\"><img src=\"https://colab.research.google.com/assets/colab-badge.svg\" alt=\"Open In Colab\"/></a>"
      ]
    },
    {
      "cell_type": "markdown",
      "source": [
        "<img src = \"https://github.com/HarryVargas96/UdeCataluna/blob/main/logo_uc_grande.png?raw=true\" alt = \"Encabezado\" width = \"100%\">  </img>"
      ],
      "metadata": {
        "id": "Rl5tdc9WOMyP"
      }
    },
    {
      "cell_type": "markdown",
      "source": [
        "# **Taller guiado de limpieza de valores faltantes y datos atípicos**"
      ],
      "metadata": {
        "id": "GGWplbV9OPnC"
      }
    },
    {
      "cell_type": "markdown",
      "source": [
        "Este taller guiado tiene como objetivo hacer un acercamiento práctico a la limpieza y preparación de un conjunto de datos.\n",
        "\n",
        "En este taller guiado veremos como:\n",
        "* Corregir valores faltantes- eliminación o reemplazo\n",
        "* Detección de valores atípicos"
      ],
      "metadata": {
        "id": "2lCXKCFqOwQi"
      }
    },
    {
      "cell_type": "markdown",
      "source": [
        "## **1. Instalar e importar los paquetes necesarios**"
      ],
      "metadata": {
        "id": "KzkrBq1w6xt_"
      }
    },
    {
      "cell_type": "code",
      "execution_count": null,
      "metadata": {
        "id": "J7FMAwlCwfMq"
      },
      "outputs": [],
      "source": [
        "import pandas as pd\n",
        "import numpy as np\n",
        "import matplotlib.pyplot as plt\n",
        "import seaborn as sns"
      ]
    },
    {
      "cell_type": "markdown",
      "source": [
        "## **2. Cargar datos**"
      ],
      "metadata": {
        "id": "-7T-RPNM7Ayh"
      }
    },
    {
      "cell_type": "markdown",
      "source": [
        "Cargamos un dataset con 100.974 observaciones obtenido de un muestreo de los resultados del ICFES 2020 segundo periodo. Este es un subconjunto del dataset original donde se han escogido 14 variables de estudio. La variable V1 fue creada durante el procesamiento que permitió la creación del dataset. Cada observación pertenece a los datos de un estudiante, se puede encontrar información socioeconómica del estudiante y su familia. El objetivo de análisis principal de este dataset es identificar el impacto de las condiciones socieconómicoas sobre el desempeño general de la prueba `PUNT_GLOBAL`. El enfoque en este notebook es hacer el trabajo de limpieza del dataset, puede realizar la exploración por su cuenta."
      ],
      "metadata": {
        "id": "_0FCygUI7EPT"
      }
    },
    {
      "cell_type": "code",
      "source": [
        "icfes = pd.read_csv('https://raw.githubusercontent.com/HarryVargas96/ICFES/main/icfes_2020_reducido.csv')"
      ],
      "metadata": {
        "id": "j6e3M0XZwnWS"
      },
      "execution_count": null,
      "outputs": []
    },
    {
      "cell_type": "code",
      "source": [
        "icfes.info()"
      ],
      "metadata": {
        "id": "LobrOO1wwqjx",
        "outputId": "57a25947-6e1b-46a1-c21a-a0194ba1e53d",
        "colab": {
          "base_uri": "https://localhost:8080/"
        }
      },
      "execution_count": null,
      "outputs": [
        {
          "output_type": "stream",
          "name": "stdout",
          "text": [
            "<class 'pandas.core.frame.DataFrame'>\n",
            "RangeIndex: 100974 entries, 0 to 100973\n",
            "Data columns (total 15 columns):\n",
            " #   Column                Non-Null Count   Dtype \n",
            "---  ------                --------------   ----- \n",
            " 0   Unnamed: 0            100974 non-null  int64 \n",
            " 1   ESTU_GENERO           100972 non-null  object\n",
            " 2   ESTU_FECHANACIMIENTO  100974 non-null  object\n",
            " 3   ESTU_TIENEETNIA       100363 non-null  object\n",
            " 4   ESTU_DEPTO_RESIDE     100974 non-null  object\n",
            " 5   FAMI_ESTRATOVIVIENDA  97576 non-null   object\n",
            " 6   FAMI_EDUCACIONPADRE   98373 non-null   object\n",
            " 7   FAMI_EDUCACIONMADRE   98267 non-null   object\n",
            " 8   FAMI_TIENEINTERNET    98274 non-null   object\n",
            " 9   FAMI_TIENECOMPUTADOR  96928 non-null   object\n",
            " 10  COLE_NATURALEZA       100974 non-null  object\n",
            " 11  COLE_AREA_UBICACION   100974 non-null  object\n",
            " 12  COLE_JORNADA          100974 non-null  object\n",
            " 13  PUNT_GLOBAL           100974 non-null  int64 \n",
            " 14  ESTU_GENERACION-E     100974 non-null  object\n",
            "dtypes: int64(2), object(13)\n",
            "memory usage: 11.6+ MB\n"
          ]
        }
      ]
    },
    {
      "cell_type": "markdown",
      "source": [
        "A su vez también cargamos una serie de tiempo, estos datos provienen de un sensor ambiental ubicado en la ciudad de Londres. Corresponde a las mediciones de la concentración de material particulado PM2.5 es decir, diametro de 2.5 micras o menos durante el año de 2018 con una frecuencia de recolección de 15 minutos. Para más información del dataset consulte [aquí](https://www.londonair.org.uk/london/asp/datadownload.asp)."
      ],
      "metadata": {
        "id": "vvnrh5tb7RTM"
      }
    },
    {
      "cell_type": "code",
      "source": [
        "air = pd.read_csv('https://raw.githubusercontent.com/HarryVargas96/UdeCataluna/main/Londonair.csv')"
      ],
      "metadata": {
        "id": "Vv6admKT7S_h"
      },
      "execution_count": null,
      "outputs": []
    },
    {
      "cell_type": "code",
      "source": [
        "air.info()"
      ],
      "metadata": {
        "id": "ZR5rq5cW7n3X",
        "outputId": "91d6d59e-73cd-4d68-c8fd-bf02ba6b7c41",
        "colab": {
          "base_uri": "https://localhost:8080/"
        }
      },
      "execution_count": null,
      "outputs": [
        {
          "output_type": "stream",
          "name": "stdout",
          "text": [
            "<class 'pandas.core.frame.DataFrame'>\n",
            "RangeIndex: 35040 entries, 0 to 35039\n",
            "Data columns (total 6 columns):\n",
            " #   Column                   Non-Null Count  Dtype  \n",
            "---  ------                   --------------  -----  \n",
            " 0   Site                     35040 non-null  object \n",
            " 1   Species                  35040 non-null  object \n",
            " 2   ReadingDateTime          35040 non-null  object \n",
            " 3   Value                    32136 non-null  float64\n",
            " 4   Units                    35040 non-null  object \n",
            " 5   Provisional or Ratified  35040 non-null  object \n",
            "dtypes: float64(1), object(5)\n",
            "memory usage: 1.6+ MB\n"
          ]
        }
      ]
    },
    {
      "cell_type": "markdown",
      "source": [
        "## **3. Dataset ICFES**\n",
        "\n"
      ],
      "metadata": {
        "id": "K-0kaxO77rO7"
      }
    },
    {
      "cell_type": "code",
      "source": [
        "icfes.head()"
      ],
      "metadata": {
        "colab": {
          "base_uri": "https://localhost:8080/",
          "height": 357
        },
        "id": "HUmxV_9XZ7RQ",
        "outputId": "f3825ab0-dbfb-4382-9dea-34de9f4ce58b"
      },
      "execution_count": null,
      "outputs": [
        {
          "output_type": "execute_result",
          "data": {
            "text/plain": [
              "   Unnamed: 0 ESTU_GENERO ESTU_FECHANACIMIENTO ESTU_TIENEETNIA  \\\n",
              "0      453241           M           27/04/2002              No   \n",
              "1      387781           M           19/05/2005              Si   \n",
              "2       77011           F           07/08/2002              Si   \n",
              "3      135370           M           03/10/2001              Si   \n",
              "4       31081           M           21/08/2002              No   \n",
              "\n",
              "  ESTU_DEPTO_RESIDE FAMI_ESTRATOVIVIENDA                 FAMI_EDUCACIONPADRE  \\\n",
              "0      CUNDINAMARCA            Estrato 3                             No sabe   \n",
              "1             VALLE            Estrato 2  Secundaria (Bachillerato) completa   \n",
              "2            NARIÑO            Estrato 1      Educación profesional completa   \n",
              "3            BOGOTÁ            Estrato 2                           Postgrado   \n",
              "4         ANTIOQUIA            Estrato 2    Educación profesional incompleta   \n",
              "\n",
              "                  FAMI_EDUCACIONMADRE FAMI_TIENEINTERNET FAMI_TIENECOMPUTADOR  \\\n",
              "0                             No sabe                 Si                   Si   \n",
              "1  Secundaria (Bachillerato) completa                 Si                   Si   \n",
              "2  Secundaria (Bachillerato) completa                 Si                   No   \n",
              "3      Técnica o tecnológica completa                 Si                   Si   \n",
              "4                 Primaria incompleta                 Si                   Si   \n",
              "\n",
              "  COLE_NATURALEZA COLE_AREA_UBICACION COLE_JORNADA  PUNT_GLOBAL  \\\n",
              "0         OFICIAL              URBANO       MAÑANA          267   \n",
              "1         OFICIAL              URBANO       MAÑANA          282   \n",
              "2         OFICIAL              URBANO       MAÑANA          226   \n",
              "3         OFICIAL              URBANO       MAÑANA          237   \n",
              "4         OFICIAL              URBANO       MAÑANA          229   \n",
              "\n",
              "          ESTU_GENERACION-E  \n",
              "0                        NO  \n",
              "1                        NO  \n",
              "2  GENERACION E - GRATUIDAD  \n",
              "3                        NO  \n",
              "4                        NO  "
            ],
            "text/html": [
              "\n",
              "  <div id=\"df-b432d2b9-2627-45ca-9fe6-227dcec9dd31\">\n",
              "    <div class=\"colab-df-container\">\n",
              "      <div>\n",
              "<style scoped>\n",
              "    .dataframe tbody tr th:only-of-type {\n",
              "        vertical-align: middle;\n",
              "    }\n",
              "\n",
              "    .dataframe tbody tr th {\n",
              "        vertical-align: top;\n",
              "    }\n",
              "\n",
              "    .dataframe thead th {\n",
              "        text-align: right;\n",
              "    }\n",
              "</style>\n",
              "<table border=\"1\" class=\"dataframe\">\n",
              "  <thead>\n",
              "    <tr style=\"text-align: right;\">\n",
              "      <th></th>\n",
              "      <th>Unnamed: 0</th>\n",
              "      <th>ESTU_GENERO</th>\n",
              "      <th>ESTU_FECHANACIMIENTO</th>\n",
              "      <th>ESTU_TIENEETNIA</th>\n",
              "      <th>ESTU_DEPTO_RESIDE</th>\n",
              "      <th>FAMI_ESTRATOVIVIENDA</th>\n",
              "      <th>FAMI_EDUCACIONPADRE</th>\n",
              "      <th>FAMI_EDUCACIONMADRE</th>\n",
              "      <th>FAMI_TIENEINTERNET</th>\n",
              "      <th>FAMI_TIENECOMPUTADOR</th>\n",
              "      <th>COLE_NATURALEZA</th>\n",
              "      <th>COLE_AREA_UBICACION</th>\n",
              "      <th>COLE_JORNADA</th>\n",
              "      <th>PUNT_GLOBAL</th>\n",
              "      <th>ESTU_GENERACION-E</th>\n",
              "    </tr>\n",
              "  </thead>\n",
              "  <tbody>\n",
              "    <tr>\n",
              "      <th>0</th>\n",
              "      <td>453241</td>\n",
              "      <td>M</td>\n",
              "      <td>27/04/2002</td>\n",
              "      <td>No</td>\n",
              "      <td>CUNDINAMARCA</td>\n",
              "      <td>Estrato 3</td>\n",
              "      <td>No sabe</td>\n",
              "      <td>No sabe</td>\n",
              "      <td>Si</td>\n",
              "      <td>Si</td>\n",
              "      <td>OFICIAL</td>\n",
              "      <td>URBANO</td>\n",
              "      <td>MAÑANA</td>\n",
              "      <td>267</td>\n",
              "      <td>NO</td>\n",
              "    </tr>\n",
              "    <tr>\n",
              "      <th>1</th>\n",
              "      <td>387781</td>\n",
              "      <td>M</td>\n",
              "      <td>19/05/2005</td>\n",
              "      <td>Si</td>\n",
              "      <td>VALLE</td>\n",
              "      <td>Estrato 2</td>\n",
              "      <td>Secundaria (Bachillerato) completa</td>\n",
              "      <td>Secundaria (Bachillerato) completa</td>\n",
              "      <td>Si</td>\n",
              "      <td>Si</td>\n",
              "      <td>OFICIAL</td>\n",
              "      <td>URBANO</td>\n",
              "      <td>MAÑANA</td>\n",
              "      <td>282</td>\n",
              "      <td>NO</td>\n",
              "    </tr>\n",
              "    <tr>\n",
              "      <th>2</th>\n",
              "      <td>77011</td>\n",
              "      <td>F</td>\n",
              "      <td>07/08/2002</td>\n",
              "      <td>Si</td>\n",
              "      <td>NARIÑO</td>\n",
              "      <td>Estrato 1</td>\n",
              "      <td>Educación profesional completa</td>\n",
              "      <td>Secundaria (Bachillerato) completa</td>\n",
              "      <td>Si</td>\n",
              "      <td>No</td>\n",
              "      <td>OFICIAL</td>\n",
              "      <td>URBANO</td>\n",
              "      <td>MAÑANA</td>\n",
              "      <td>226</td>\n",
              "      <td>GENERACION E - GRATUIDAD</td>\n",
              "    </tr>\n",
              "    <tr>\n",
              "      <th>3</th>\n",
              "      <td>135370</td>\n",
              "      <td>M</td>\n",
              "      <td>03/10/2001</td>\n",
              "      <td>Si</td>\n",
              "      <td>BOGOTÁ</td>\n",
              "      <td>Estrato 2</td>\n",
              "      <td>Postgrado</td>\n",
              "      <td>Técnica o tecnológica completa</td>\n",
              "      <td>Si</td>\n",
              "      <td>Si</td>\n",
              "      <td>OFICIAL</td>\n",
              "      <td>URBANO</td>\n",
              "      <td>MAÑANA</td>\n",
              "      <td>237</td>\n",
              "      <td>NO</td>\n",
              "    </tr>\n",
              "    <tr>\n",
              "      <th>4</th>\n",
              "      <td>31081</td>\n",
              "      <td>M</td>\n",
              "      <td>21/08/2002</td>\n",
              "      <td>No</td>\n",
              "      <td>ANTIOQUIA</td>\n",
              "      <td>Estrato 2</td>\n",
              "      <td>Educación profesional incompleta</td>\n",
              "      <td>Primaria incompleta</td>\n",
              "      <td>Si</td>\n",
              "      <td>Si</td>\n",
              "      <td>OFICIAL</td>\n",
              "      <td>URBANO</td>\n",
              "      <td>MAÑANA</td>\n",
              "      <td>229</td>\n",
              "      <td>NO</td>\n",
              "    </tr>\n",
              "  </tbody>\n",
              "</table>\n",
              "</div>\n",
              "      <button class=\"colab-df-convert\" onclick=\"convertToInteractive('df-b432d2b9-2627-45ca-9fe6-227dcec9dd31')\"\n",
              "              title=\"Convert this dataframe to an interactive table.\"\n",
              "              style=\"display:none;\">\n",
              "        \n",
              "  <svg xmlns=\"http://www.w3.org/2000/svg\" height=\"24px\"viewBox=\"0 0 24 24\"\n",
              "       width=\"24px\">\n",
              "    <path d=\"M0 0h24v24H0V0z\" fill=\"none\"/>\n",
              "    <path d=\"M18.56 5.44l.94 2.06.94-2.06 2.06-.94-2.06-.94-.94-2.06-.94 2.06-2.06.94zm-11 1L8.5 8.5l.94-2.06 2.06-.94-2.06-.94L8.5 2.5l-.94 2.06-2.06.94zm10 10l.94 2.06.94-2.06 2.06-.94-2.06-.94-.94-2.06-.94 2.06-2.06.94z\"/><path d=\"M17.41 7.96l-1.37-1.37c-.4-.4-.92-.59-1.43-.59-.52 0-1.04.2-1.43.59L10.3 9.45l-7.72 7.72c-.78.78-.78 2.05 0 2.83L4 21.41c.39.39.9.59 1.41.59.51 0 1.02-.2 1.41-.59l7.78-7.78 2.81-2.81c.8-.78.8-2.07 0-2.86zM5.41 20L4 18.59l7.72-7.72 1.47 1.35L5.41 20z\"/>\n",
              "  </svg>\n",
              "      </button>\n",
              "      \n",
              "  <style>\n",
              "    .colab-df-container {\n",
              "      display:flex;\n",
              "      flex-wrap:wrap;\n",
              "      gap: 12px;\n",
              "    }\n",
              "\n",
              "    .colab-df-convert {\n",
              "      background-color: #E8F0FE;\n",
              "      border: none;\n",
              "      border-radius: 50%;\n",
              "      cursor: pointer;\n",
              "      display: none;\n",
              "      fill: #1967D2;\n",
              "      height: 32px;\n",
              "      padding: 0 0 0 0;\n",
              "      width: 32px;\n",
              "    }\n",
              "\n",
              "    .colab-df-convert:hover {\n",
              "      background-color: #E2EBFA;\n",
              "      box-shadow: 0px 1px 2px rgba(60, 64, 67, 0.3), 0px 1px 3px 1px rgba(60, 64, 67, 0.15);\n",
              "      fill: #174EA6;\n",
              "    }\n",
              "\n",
              "    [theme=dark] .colab-df-convert {\n",
              "      background-color: #3B4455;\n",
              "      fill: #D2E3FC;\n",
              "    }\n",
              "\n",
              "    [theme=dark] .colab-df-convert:hover {\n",
              "      background-color: #434B5C;\n",
              "      box-shadow: 0px 1px 3px 1px rgba(0, 0, 0, 0.15);\n",
              "      filter: drop-shadow(0px 1px 2px rgba(0, 0, 0, 0.3));\n",
              "      fill: #FFFFFF;\n",
              "    }\n",
              "  </style>\n",
              "\n",
              "      <script>\n",
              "        const buttonEl =\n",
              "          document.querySelector('#df-b432d2b9-2627-45ca-9fe6-227dcec9dd31 button.colab-df-convert');\n",
              "        buttonEl.style.display =\n",
              "          google.colab.kernel.accessAllowed ? 'block' : 'none';\n",
              "\n",
              "        async function convertToInteractive(key) {\n",
              "          const element = document.querySelector('#df-b432d2b9-2627-45ca-9fe6-227dcec9dd31');\n",
              "          const dataTable =\n",
              "            await google.colab.kernel.invokeFunction('convertToInteractive',\n",
              "                                                     [key], {});\n",
              "          if (!dataTable) return;\n",
              "\n",
              "          const docLinkHtml = 'Like what you see? Visit the ' +\n",
              "            '<a target=\"_blank\" href=https://colab.research.google.com/notebooks/data_table.ipynb>data table notebook</a>'\n",
              "            + ' to learn more about interactive tables.';\n",
              "          element.innerHTML = '';\n",
              "          dataTable['output_type'] = 'display_data';\n",
              "          await google.colab.output.renderOutput(dataTable, element);\n",
              "          const docLink = document.createElement('div');\n",
              "          docLink.innerHTML = docLinkHtml;\n",
              "          element.appendChild(docLink);\n",
              "        }\n",
              "      </script>\n",
              "    </div>\n",
              "  </div>\n",
              "  "
            ]
          },
          "metadata": {},
          "execution_count": 7
        }
      ]
    },
    {
      "cell_type": "code",
      "source": [
        "icfes.describe()"
      ],
      "metadata": {
        "colab": {
          "base_uri": "https://localhost:8080/",
          "height": 300
        },
        "id": "-jRk_RS7Zzrq",
        "outputId": "6c89b110-58ce-4735-c56a-a1bbd48f7add"
      },
      "execution_count": null,
      "outputs": [
        {
          "output_type": "execute_result",
          "data": {
            "text/plain": [
              "          Unnamed: 0    PUNT_GLOBAL\n",
              "count  100974.000000  100974.000000\n",
              "mean   252481.857983     248.445986\n",
              "std    145788.076596      48.741511\n",
              "min         4.000000       0.000000\n",
              "25%    126054.500000     211.000000\n",
              "50%    252170.500000     245.000000\n",
              "75%    379022.750000     282.000000\n",
              "max    504868.000000     500.000000"
            ],
            "text/html": [
              "\n",
              "  <div id=\"df-ca3ada61-3935-4d69-9835-8a3fd85a9ff7\">\n",
              "    <div class=\"colab-df-container\">\n",
              "      <div>\n",
              "<style scoped>\n",
              "    .dataframe tbody tr th:only-of-type {\n",
              "        vertical-align: middle;\n",
              "    }\n",
              "\n",
              "    .dataframe tbody tr th {\n",
              "        vertical-align: top;\n",
              "    }\n",
              "\n",
              "    .dataframe thead th {\n",
              "        text-align: right;\n",
              "    }\n",
              "</style>\n",
              "<table border=\"1\" class=\"dataframe\">\n",
              "  <thead>\n",
              "    <tr style=\"text-align: right;\">\n",
              "      <th></th>\n",
              "      <th>Unnamed: 0</th>\n",
              "      <th>PUNT_GLOBAL</th>\n",
              "    </tr>\n",
              "  </thead>\n",
              "  <tbody>\n",
              "    <tr>\n",
              "      <th>count</th>\n",
              "      <td>100974.000000</td>\n",
              "      <td>100974.000000</td>\n",
              "    </tr>\n",
              "    <tr>\n",
              "      <th>mean</th>\n",
              "      <td>252481.857983</td>\n",
              "      <td>248.445986</td>\n",
              "    </tr>\n",
              "    <tr>\n",
              "      <th>std</th>\n",
              "      <td>145788.076596</td>\n",
              "      <td>48.741511</td>\n",
              "    </tr>\n",
              "    <tr>\n",
              "      <th>min</th>\n",
              "      <td>4.000000</td>\n",
              "      <td>0.000000</td>\n",
              "    </tr>\n",
              "    <tr>\n",
              "      <th>25%</th>\n",
              "      <td>126054.500000</td>\n",
              "      <td>211.000000</td>\n",
              "    </tr>\n",
              "    <tr>\n",
              "      <th>50%</th>\n",
              "      <td>252170.500000</td>\n",
              "      <td>245.000000</td>\n",
              "    </tr>\n",
              "    <tr>\n",
              "      <th>75%</th>\n",
              "      <td>379022.750000</td>\n",
              "      <td>282.000000</td>\n",
              "    </tr>\n",
              "    <tr>\n",
              "      <th>max</th>\n",
              "      <td>504868.000000</td>\n",
              "      <td>500.000000</td>\n",
              "    </tr>\n",
              "  </tbody>\n",
              "</table>\n",
              "</div>\n",
              "      <button class=\"colab-df-convert\" onclick=\"convertToInteractive('df-ca3ada61-3935-4d69-9835-8a3fd85a9ff7')\"\n",
              "              title=\"Convert this dataframe to an interactive table.\"\n",
              "              style=\"display:none;\">\n",
              "        \n",
              "  <svg xmlns=\"http://www.w3.org/2000/svg\" height=\"24px\"viewBox=\"0 0 24 24\"\n",
              "       width=\"24px\">\n",
              "    <path d=\"M0 0h24v24H0V0z\" fill=\"none\"/>\n",
              "    <path d=\"M18.56 5.44l.94 2.06.94-2.06 2.06-.94-2.06-.94-.94-2.06-.94 2.06-2.06.94zm-11 1L8.5 8.5l.94-2.06 2.06-.94-2.06-.94L8.5 2.5l-.94 2.06-2.06.94zm10 10l.94 2.06.94-2.06 2.06-.94-2.06-.94-.94-2.06-.94 2.06-2.06.94z\"/><path d=\"M17.41 7.96l-1.37-1.37c-.4-.4-.92-.59-1.43-.59-.52 0-1.04.2-1.43.59L10.3 9.45l-7.72 7.72c-.78.78-.78 2.05 0 2.83L4 21.41c.39.39.9.59 1.41.59.51 0 1.02-.2 1.41-.59l7.78-7.78 2.81-2.81c.8-.78.8-2.07 0-2.86zM5.41 20L4 18.59l7.72-7.72 1.47 1.35L5.41 20z\"/>\n",
              "  </svg>\n",
              "      </button>\n",
              "      \n",
              "  <style>\n",
              "    .colab-df-container {\n",
              "      display:flex;\n",
              "      flex-wrap:wrap;\n",
              "      gap: 12px;\n",
              "    }\n",
              "\n",
              "    .colab-df-convert {\n",
              "      background-color: #E8F0FE;\n",
              "      border: none;\n",
              "      border-radius: 50%;\n",
              "      cursor: pointer;\n",
              "      display: none;\n",
              "      fill: #1967D2;\n",
              "      height: 32px;\n",
              "      padding: 0 0 0 0;\n",
              "      width: 32px;\n",
              "    }\n",
              "\n",
              "    .colab-df-convert:hover {\n",
              "      background-color: #E2EBFA;\n",
              "      box-shadow: 0px 1px 2px rgba(60, 64, 67, 0.3), 0px 1px 3px 1px rgba(60, 64, 67, 0.15);\n",
              "      fill: #174EA6;\n",
              "    }\n",
              "\n",
              "    [theme=dark] .colab-df-convert {\n",
              "      background-color: #3B4455;\n",
              "      fill: #D2E3FC;\n",
              "    }\n",
              "\n",
              "    [theme=dark] .colab-df-convert:hover {\n",
              "      background-color: #434B5C;\n",
              "      box-shadow: 0px 1px 3px 1px rgba(0, 0, 0, 0.15);\n",
              "      filter: drop-shadow(0px 1px 2px rgba(0, 0, 0, 0.3));\n",
              "      fill: #FFFFFF;\n",
              "    }\n",
              "  </style>\n",
              "\n",
              "      <script>\n",
              "        const buttonEl =\n",
              "          document.querySelector('#df-ca3ada61-3935-4d69-9835-8a3fd85a9ff7 button.colab-df-convert');\n",
              "        buttonEl.style.display =\n",
              "          google.colab.kernel.accessAllowed ? 'block' : 'none';\n",
              "\n",
              "        async function convertToInteractive(key) {\n",
              "          const element = document.querySelector('#df-ca3ada61-3935-4d69-9835-8a3fd85a9ff7');\n",
              "          const dataTable =\n",
              "            await google.colab.kernel.invokeFunction('convertToInteractive',\n",
              "                                                     [key], {});\n",
              "          if (!dataTable) return;\n",
              "\n",
              "          const docLinkHtml = 'Like what you see? Visit the ' +\n",
              "            '<a target=\"_blank\" href=https://colab.research.google.com/notebooks/data_table.ipynb>data table notebook</a>'\n",
              "            + ' to learn more about interactive tables.';\n",
              "          element.innerHTML = '';\n",
              "          dataTable['output_type'] = 'display_data';\n",
              "          await google.colab.output.renderOutput(dataTable, element);\n",
              "          const docLink = document.createElement('div');\n",
              "          docLink.innerHTML = docLinkHtml;\n",
              "          element.appendChild(docLink);\n",
              "        }\n",
              "      </script>\n",
              "    </div>\n",
              "  </div>\n",
              "  "
            ]
          },
          "metadata": {},
          "execution_count": 6
        }
      ]
    },
    {
      "cell_type": "code",
      "source": [
        "icfes.describe(include = 'object')"
      ],
      "metadata": {
        "colab": {
          "base_uri": "https://localhost:8080/",
          "height": 273
        },
        "id": "RoVjSK78aGsm",
        "outputId": "7f9b934f-cc41-42d8-eeca-27b8f86a0b70"
      },
      "execution_count": null,
      "outputs": [
        {
          "output_type": "execute_result",
          "data": {
            "text/plain": [
              "       ESTU_GENERO ESTU_FECHANACIMIENTO ESTU_TIENEETNIA ESTU_DEPTO_RESIDE  \\\n",
              "count       100972               100974          100363            100974   \n",
              "unique           2                 4702               2                34   \n",
              "top              F           11/11/2003              No            BOGOTÁ   \n",
              "freq         55368                  188           93992             15475   \n",
              "\n",
              "       FAMI_ESTRATOVIVIENDA                 FAMI_EDUCACIONPADRE  \\\n",
              "count                 97576                               98373   \n",
              "unique                    7                                  12   \n",
              "top               Estrato 2  Secundaria (Bachillerato) completa   \n",
              "freq                  36525                               24072   \n",
              "\n",
              "                       FAMI_EDUCACIONMADRE FAMI_TIENEINTERNET  \\\n",
              "count                                98267              98274   \n",
              "unique                                  12                  2   \n",
              "top     Secundaria (Bachillerato) completa                 Si   \n",
              "freq                                 27761              68603   \n",
              "\n",
              "       FAMI_TIENECOMPUTADOR COLE_NATURALEZA COLE_AREA_UBICACION COLE_JORNADA  \\\n",
              "count                 96928          100974              100974       100974   \n",
              "unique                    2               2                   2            6   \n",
              "top                      Si         OFICIAL              URBANO       MAÑANA   \n",
              "freq                  58708           78384               84481        40277   \n",
              "\n",
              "       ESTU_GENERACION-E  \n",
              "count             100974  \n",
              "unique                 4  \n",
              "top                   NO  \n",
              "freq               51389  "
            ],
            "text/html": [
              "\n",
              "  <div id=\"df-a42a5c9d-6bc3-4978-a607-c99569c77730\">\n",
              "    <div class=\"colab-df-container\">\n",
              "      <div>\n",
              "<style scoped>\n",
              "    .dataframe tbody tr th:only-of-type {\n",
              "        vertical-align: middle;\n",
              "    }\n",
              "\n",
              "    .dataframe tbody tr th {\n",
              "        vertical-align: top;\n",
              "    }\n",
              "\n",
              "    .dataframe thead th {\n",
              "        text-align: right;\n",
              "    }\n",
              "</style>\n",
              "<table border=\"1\" class=\"dataframe\">\n",
              "  <thead>\n",
              "    <tr style=\"text-align: right;\">\n",
              "      <th></th>\n",
              "      <th>ESTU_GENERO</th>\n",
              "      <th>ESTU_FECHANACIMIENTO</th>\n",
              "      <th>ESTU_TIENEETNIA</th>\n",
              "      <th>ESTU_DEPTO_RESIDE</th>\n",
              "      <th>FAMI_ESTRATOVIVIENDA</th>\n",
              "      <th>FAMI_EDUCACIONPADRE</th>\n",
              "      <th>FAMI_EDUCACIONMADRE</th>\n",
              "      <th>FAMI_TIENEINTERNET</th>\n",
              "      <th>FAMI_TIENECOMPUTADOR</th>\n",
              "      <th>COLE_NATURALEZA</th>\n",
              "      <th>COLE_AREA_UBICACION</th>\n",
              "      <th>COLE_JORNADA</th>\n",
              "      <th>ESTU_GENERACION-E</th>\n",
              "    </tr>\n",
              "  </thead>\n",
              "  <tbody>\n",
              "    <tr>\n",
              "      <th>count</th>\n",
              "      <td>100972</td>\n",
              "      <td>100974</td>\n",
              "      <td>100363</td>\n",
              "      <td>100974</td>\n",
              "      <td>97576</td>\n",
              "      <td>98373</td>\n",
              "      <td>98267</td>\n",
              "      <td>98274</td>\n",
              "      <td>96928</td>\n",
              "      <td>100974</td>\n",
              "      <td>100974</td>\n",
              "      <td>100974</td>\n",
              "      <td>100974</td>\n",
              "    </tr>\n",
              "    <tr>\n",
              "      <th>unique</th>\n",
              "      <td>2</td>\n",
              "      <td>4702</td>\n",
              "      <td>2</td>\n",
              "      <td>34</td>\n",
              "      <td>7</td>\n",
              "      <td>12</td>\n",
              "      <td>12</td>\n",
              "      <td>2</td>\n",
              "      <td>2</td>\n",
              "      <td>2</td>\n",
              "      <td>2</td>\n",
              "      <td>6</td>\n",
              "      <td>4</td>\n",
              "    </tr>\n",
              "    <tr>\n",
              "      <th>top</th>\n",
              "      <td>F</td>\n",
              "      <td>11/11/2003</td>\n",
              "      <td>No</td>\n",
              "      <td>BOGOTÁ</td>\n",
              "      <td>Estrato 2</td>\n",
              "      <td>Secundaria (Bachillerato) completa</td>\n",
              "      <td>Secundaria (Bachillerato) completa</td>\n",
              "      <td>Si</td>\n",
              "      <td>Si</td>\n",
              "      <td>OFICIAL</td>\n",
              "      <td>URBANO</td>\n",
              "      <td>MAÑANA</td>\n",
              "      <td>NO</td>\n",
              "    </tr>\n",
              "    <tr>\n",
              "      <th>freq</th>\n",
              "      <td>55368</td>\n",
              "      <td>188</td>\n",
              "      <td>93992</td>\n",
              "      <td>15475</td>\n",
              "      <td>36525</td>\n",
              "      <td>24072</td>\n",
              "      <td>27761</td>\n",
              "      <td>68603</td>\n",
              "      <td>58708</td>\n",
              "      <td>78384</td>\n",
              "      <td>84481</td>\n",
              "      <td>40277</td>\n",
              "      <td>51389</td>\n",
              "    </tr>\n",
              "  </tbody>\n",
              "</table>\n",
              "</div>\n",
              "      <button class=\"colab-df-convert\" onclick=\"convertToInteractive('df-a42a5c9d-6bc3-4978-a607-c99569c77730')\"\n",
              "              title=\"Convert this dataframe to an interactive table.\"\n",
              "              style=\"display:none;\">\n",
              "        \n",
              "  <svg xmlns=\"http://www.w3.org/2000/svg\" height=\"24px\"viewBox=\"0 0 24 24\"\n",
              "       width=\"24px\">\n",
              "    <path d=\"M0 0h24v24H0V0z\" fill=\"none\"/>\n",
              "    <path d=\"M18.56 5.44l.94 2.06.94-2.06 2.06-.94-2.06-.94-.94-2.06-.94 2.06-2.06.94zm-11 1L8.5 8.5l.94-2.06 2.06-.94-2.06-.94L8.5 2.5l-.94 2.06-2.06.94zm10 10l.94 2.06.94-2.06 2.06-.94-2.06-.94-.94-2.06-.94 2.06-2.06.94z\"/><path d=\"M17.41 7.96l-1.37-1.37c-.4-.4-.92-.59-1.43-.59-.52 0-1.04.2-1.43.59L10.3 9.45l-7.72 7.72c-.78.78-.78 2.05 0 2.83L4 21.41c.39.39.9.59 1.41.59.51 0 1.02-.2 1.41-.59l7.78-7.78 2.81-2.81c.8-.78.8-2.07 0-2.86zM5.41 20L4 18.59l7.72-7.72 1.47 1.35L5.41 20z\"/>\n",
              "  </svg>\n",
              "      </button>\n",
              "      \n",
              "  <style>\n",
              "    .colab-df-container {\n",
              "      display:flex;\n",
              "      flex-wrap:wrap;\n",
              "      gap: 12px;\n",
              "    }\n",
              "\n",
              "    .colab-df-convert {\n",
              "      background-color: #E8F0FE;\n",
              "      border: none;\n",
              "      border-radius: 50%;\n",
              "      cursor: pointer;\n",
              "      display: none;\n",
              "      fill: #1967D2;\n",
              "      height: 32px;\n",
              "      padding: 0 0 0 0;\n",
              "      width: 32px;\n",
              "    }\n",
              "\n",
              "    .colab-df-convert:hover {\n",
              "      background-color: #E2EBFA;\n",
              "      box-shadow: 0px 1px 2px rgba(60, 64, 67, 0.3), 0px 1px 3px 1px rgba(60, 64, 67, 0.15);\n",
              "      fill: #174EA6;\n",
              "    }\n",
              "\n",
              "    [theme=dark] .colab-df-convert {\n",
              "      background-color: #3B4455;\n",
              "      fill: #D2E3FC;\n",
              "    }\n",
              "\n",
              "    [theme=dark] .colab-df-convert:hover {\n",
              "      background-color: #434B5C;\n",
              "      box-shadow: 0px 1px 3px 1px rgba(0, 0, 0, 0.15);\n",
              "      filter: drop-shadow(0px 1px 2px rgba(0, 0, 0, 0.3));\n",
              "      fill: #FFFFFF;\n",
              "    }\n",
              "  </style>\n",
              "\n",
              "      <script>\n",
              "        const buttonEl =\n",
              "          document.querySelector('#df-a42a5c9d-6bc3-4978-a607-c99569c77730 button.colab-df-convert');\n",
              "        buttonEl.style.display =\n",
              "          google.colab.kernel.accessAllowed ? 'block' : 'none';\n",
              "\n",
              "        async function convertToInteractive(key) {\n",
              "          const element = document.querySelector('#df-a42a5c9d-6bc3-4978-a607-c99569c77730');\n",
              "          const dataTable =\n",
              "            await google.colab.kernel.invokeFunction('convertToInteractive',\n",
              "                                                     [key], {});\n",
              "          if (!dataTable) return;\n",
              "\n",
              "          const docLinkHtml = 'Like what you see? Visit the ' +\n",
              "            '<a target=\"_blank\" href=https://colab.research.google.com/notebooks/data_table.ipynb>data table notebook</a>'\n",
              "            + ' to learn more about interactive tables.';\n",
              "          element.innerHTML = '';\n",
              "          dataTable['output_type'] = 'display_data';\n",
              "          await google.colab.output.renderOutput(dataTable, element);\n",
              "          const docLink = document.createElement('div');\n",
              "          docLink.innerHTML = docLinkHtml;\n",
              "          element.appendChild(docLink);\n",
              "        }\n",
              "      </script>\n",
              "    </div>\n",
              "  </div>\n",
              "  "
            ]
          },
          "metadata": {},
          "execution_count": 8
        }
      ]
    },
    {
      "cell_type": "code",
      "source": [
        "icfes['ESTU_GENERACION-E'].unique()"
      ],
      "metadata": {
        "colab": {
          "base_uri": "https://localhost:8080/"
        },
        "id": "yA576g5nbZTj",
        "outputId": "6bd75f24-b293-43ff-e1da-624102141eaf"
      },
      "execution_count": null,
      "outputs": [
        {
          "output_type": "execute_result",
          "data": {
            "text/plain": [
              "array(['NO', 'GENERACION E - GRATUIDAD',\n",
              "       'GENERACION E - EXCELENCIA NACIONAL',\n",
              "       'GENERACION E - EXCELENCIA DEPARTAMENTAL'], dtype=object)"
            ]
          },
          "metadata": {},
          "execution_count": 15
        }
      ]
    },
    {
      "cell_type": "code",
      "source": [
        "icfes.groupby(['FAMI_TIENECOMPUTADOR','FAMI_TIENEINTERNET']).size()*100/len(icfes)"
      ],
      "metadata": {
        "colab": {
          "base_uri": "https://localhost:8080/"
        },
        "id": "T5zN9jc4a6AL",
        "outputId": "a7095d16-f63e-497c-c337-f479bfbfee88"
      },
      "execution_count": null,
      "outputs": [
        {
          "output_type": "execute_result",
          "data": {
            "text/plain": [
              "FAMI_TIENECOMPUTADOR  FAMI_TIENEINTERNET\n",
              "No                    No                    23.046527\n",
              "                      Si                    14.699824\n",
              "Si                    No                     5.771783\n",
              "                      Si                    52.255036\n",
              "dtype: float64"
            ]
          },
          "metadata": {},
          "execution_count": 12
        }
      ]
    },
    {
      "cell_type": "code",
      "source": [
        "icfes.ESTU_GENERO.value_counts(normalize = True)"
      ],
      "metadata": {
        "colab": {
          "base_uri": "https://localhost:8080/"
        },
        "id": "vlzPSUhyaL2-",
        "outputId": "10f63a9b-95b7-42d3-88f6-c05b27f5e289"
      },
      "execution_count": null,
      "outputs": [
        {
          "output_type": "execute_result",
          "data": {
            "text/plain": [
              "F    0.54835\n",
              "M    0.45165\n",
              "Name: ESTU_GENERO, dtype: float64"
            ]
          },
          "metadata": {},
          "execution_count": 10
        }
      ]
    },
    {
      "cell_type": "markdown",
      "source": [
        "### Conversión y transformación de variables\n",
        "\n",
        "Para facilitar el trabajo vamos a transformar las variables cualitativas que aparecen como character en factores, y vamos a eliminar la variable V1."
      ],
      "metadata": {
        "id": "7Ir4W9oT-G2w"
      }
    },
    {
      "cell_type": "code",
      "source": [
        "# Eliminación de variable, recuerde crear una copia si no está seguro de eliminar la variable de manera permanente\n",
        "icfes_copy = icfes\n",
        "icfes.drop(columns=['Unnamed: 0'],inplace=True)"
      ],
      "metadata": {
        "id": "0hWY-lMP73LE"
      },
      "execution_count": null,
      "outputs": []
    },
    {
      "cell_type": "code",
      "source": [
        "icfes.info()"
      ],
      "metadata": {
        "colab": {
          "base_uri": "https://localhost:8080/"
        },
        "id": "HsOdchMRcIp0",
        "outputId": "07f60b06-2d95-4a57-feb8-2e93b785537e"
      },
      "execution_count": null,
      "outputs": [
        {
          "output_type": "stream",
          "name": "stdout",
          "text": [
            "<class 'pandas.core.frame.DataFrame'>\n",
            "RangeIndex: 100974 entries, 0 to 100973\n",
            "Data columns (total 14 columns):\n",
            " #   Column                Non-Null Count   Dtype \n",
            "---  ------                --------------   ----- \n",
            " 0   ESTU_GENERO           100972 non-null  object\n",
            " 1   ESTU_FECHANACIMIENTO  100974 non-null  object\n",
            " 2   ESTU_TIENEETNIA       100363 non-null  object\n",
            " 3   ESTU_DEPTO_RESIDE     100974 non-null  object\n",
            " 4   FAMI_ESTRATOVIVIENDA  97576 non-null   object\n",
            " 5   FAMI_EDUCACIONPADRE   98373 non-null   object\n",
            " 6   FAMI_EDUCACIONMADRE   98267 non-null   object\n",
            " 7   FAMI_TIENEINTERNET    98274 non-null   object\n",
            " 8   FAMI_TIENECOMPUTADOR  96928 non-null   object\n",
            " 9   COLE_NATURALEZA       100974 non-null  object\n",
            " 10  COLE_AREA_UBICACION   100974 non-null  object\n",
            " 11  COLE_JORNADA          100974 non-null  object\n",
            " 12  PUNT_GLOBAL           100974 non-null  int64 \n",
            " 13  ESTU_GENERACION-E     100974 non-null  object\n",
            "dtypes: int64(1), object(13)\n",
            "memory usage: 10.8+ MB\n"
          ]
        }
      ]
    },
    {
      "cell_type": "markdown",
      "source": [
        "La variable `ESTU_FECHANACIMIENTO` tal como está no sirve para el análisis, es necesario crear la variable `EDAD`.\n",
        "\n",
        "\n",
        "Para eso vamos a usar la libreria lubridate y una función nueva. Como queremos saber la edad de los estudiantes al momento de presentar la prueba debemos tener presente que la prueba se realizó el 9 de agosto de 2020."
      ],
      "metadata": {
        "id": "x3lb1USM9a1T"
      }
    },
    {
      "cell_type": "code",
      "source": [
        "type('27/06/2023')"
      ],
      "metadata": {
        "colab": {
          "base_uri": "https://localhost:8080/"
        },
        "id": "KgOQbCjcdjBw",
        "outputId": "33fecd84-f352-4d6c-a3fe-c8be85cc5b62"
      },
      "execution_count": null,
      "outputs": [
        {
          "output_type": "execute_result",
          "data": {
            "text/plain": [
              "str"
            ]
          },
          "metadata": {},
          "execution_count": 30
        }
      ]
    },
    {
      "cell_type": "code",
      "source": [
        "'27/06/2023' - '24/06/2023'"
      ],
      "metadata": {
        "id": "W2-3GiHodlsE"
      },
      "execution_count": null,
      "outputs": []
    },
    {
      "cell_type": "code",
      "source": [
        "type(datetime.strptime('27/06/2023', '%d/%m/%Y').year)"
      ],
      "metadata": {
        "colab": {
          "base_uri": "https://localhost:8080/"
        },
        "id": "KFe2DrwHcgGI",
        "outputId": "9c4bbf17-2fb8-437b-eef7-07b84bbc2b3f"
      },
      "execution_count": null,
      "outputs": [
        {
          "output_type": "execute_result",
          "data": {
            "text/plain": [
              "int"
            ]
          },
          "metadata": {},
          "execution_count": 34
        }
      ]
    },
    {
      "cell_type": "code",
      "source": [
        "datetime.strptime('27/06/2023', '%d/%m/%Y').year"
      ],
      "metadata": {
        "colab": {
          "base_uri": "https://localhost:8080/"
        },
        "id": "o6pOI-zKeQzw",
        "outputId": "21cf0eb2-0faf-4a33-d082-762ee4eb62d4"
      },
      "execution_count": null,
      "outputs": [
        {
          "output_type": "execute_result",
          "data": {
            "text/plain": [
              "2023"
            ]
          },
          "metadata": {},
          "execution_count": 35
        }
      ]
    },
    {
      "cell_type": "code",
      "source": [
        "from datetime import datetime\n",
        "# Modulo que permite trabajar con fechas\n",
        "\n",
        "# strptime es un método que permite convertir un string a fecha de acuerdo\n",
        "def edad(cadena):\n",
        "    birth = datetime.strptime(cadena, '%d/%m/%Y') # Fecha nacimiento\n",
        "    prueba = datetime.strptime('09/08/2020', '%d/%m/%Y') #Fecha presentación examen\n",
        "\n",
        "    return prueba.year - birth.year # Edad el día de presentación del examen"
      ],
      "metadata": {
        "id": "R4d4n4738aBM"
      },
      "execution_count": null,
      "outputs": []
    },
    {
      "cell_type": "code",
      "source": [
        "edad('18/04/2003') # Celda de prueba"
      ],
      "metadata": {
        "colab": {
          "base_uri": "https://localhost:8080/"
        },
        "id": "39feDzQEdZh0",
        "outputId": "ecf17e5a-b250-4309-ecbd-7baf8360e080"
      },
      "execution_count": null,
      "outputs": [
        {
          "output_type": "execute_result",
          "data": {
            "text/plain": [
              "17"
            ]
          },
          "metadata": {},
          "execution_count": 29
        }
      ]
    },
    {
      "cell_type": "markdown",
      "source": [
        "Para la transformación de los datos se utiliza una método de mapeo conocido como `apply`, lo que haremos será aplicar la función `edad` declarada anteriormente sobre todas las filas del dataset `icfes`."
      ],
      "metadata": {
        "id": "OvzHZI2h9Uem"
      }
    },
    {
      "cell_type": "code",
      "source": [
        "icfes['ESTU_EDAD']  = icfes['ESTU_FECHANACIMIENTO'].apply( lambda x: edad(x) )"
      ],
      "metadata": {
        "id": "uco0Jh2P8gcX"
      },
      "execution_count": null,
      "outputs": []
    },
    {
      "cell_type": "code",
      "source": [
        "icfes['ESTU_EDAD']  = icfes['ESTU_FECHANACIMIENTO'].apply( edad )"
      ],
      "metadata": {
        "id": "QBTGRBObe7tW"
      },
      "execution_count": null,
      "outputs": []
    },
    {
      "cell_type": "code",
      "source": [
        "icfes.head()"
      ],
      "metadata": {
        "id": "UUg4rBP894Vx",
        "outputId": "556d8f36-decf-4840-a51b-4a2255731035",
        "colab": {
          "base_uri": "https://localhost:8080/",
          "height": 357
        }
      },
      "execution_count": null,
      "outputs": [
        {
          "output_type": "execute_result",
          "data": {
            "text/plain": [
              "  ESTU_GENERO ESTU_FECHANACIMIENTO ESTU_TIENEETNIA ESTU_DEPTO_RESIDE  \\\n",
              "0           M           27/04/2002              No      CUNDINAMARCA   \n",
              "1           M           19/05/2005              Si             VALLE   \n",
              "2           F           07/08/2002              Si            NARIÑO   \n",
              "3           M           03/10/2001              Si            BOGOTÁ   \n",
              "4           M           21/08/2002              No         ANTIOQUIA   \n",
              "\n",
              "  FAMI_ESTRATOVIVIENDA                 FAMI_EDUCACIONPADRE  \\\n",
              "0            Estrato 3                             No sabe   \n",
              "1            Estrato 2  Secundaria (Bachillerato) completa   \n",
              "2            Estrato 1      Educación profesional completa   \n",
              "3            Estrato 2                           Postgrado   \n",
              "4            Estrato 2    Educación profesional incompleta   \n",
              "\n",
              "                  FAMI_EDUCACIONMADRE FAMI_TIENEINTERNET FAMI_TIENECOMPUTADOR  \\\n",
              "0                             No sabe                 Si                   Si   \n",
              "1  Secundaria (Bachillerato) completa                 Si                   Si   \n",
              "2  Secundaria (Bachillerato) completa                 Si                   No   \n",
              "3      Técnica o tecnológica completa                 Si                   Si   \n",
              "4                 Primaria incompleta                 Si                   Si   \n",
              "\n",
              "  COLE_NATURALEZA COLE_AREA_UBICACION COLE_JORNADA  PUNT_GLOBAL  \\\n",
              "0         OFICIAL              URBANO       MAÑANA          267   \n",
              "1         OFICIAL              URBANO       MAÑANA          282   \n",
              "2         OFICIAL              URBANO       MAÑANA          226   \n",
              "3         OFICIAL              URBANO       MAÑANA          237   \n",
              "4         OFICIAL              URBANO       MAÑANA          229   \n",
              "\n",
              "          ESTU_GENERACION-E  ESTU_EDAD  \n",
              "0                        NO         18  \n",
              "1                        NO         15  \n",
              "2  GENERACION E - GRATUIDAD         18  \n",
              "3                        NO         19  \n",
              "4                        NO         18  "
            ],
            "text/html": [
              "\n",
              "  <div id=\"df-bfec15d1-d9de-40e9-bba4-1b8b5a4fd6c5\">\n",
              "    <div class=\"colab-df-container\">\n",
              "      <div>\n",
              "<style scoped>\n",
              "    .dataframe tbody tr th:only-of-type {\n",
              "        vertical-align: middle;\n",
              "    }\n",
              "\n",
              "    .dataframe tbody tr th {\n",
              "        vertical-align: top;\n",
              "    }\n",
              "\n",
              "    .dataframe thead th {\n",
              "        text-align: right;\n",
              "    }\n",
              "</style>\n",
              "<table border=\"1\" class=\"dataframe\">\n",
              "  <thead>\n",
              "    <tr style=\"text-align: right;\">\n",
              "      <th></th>\n",
              "      <th>ESTU_GENERO</th>\n",
              "      <th>ESTU_FECHANACIMIENTO</th>\n",
              "      <th>ESTU_TIENEETNIA</th>\n",
              "      <th>ESTU_DEPTO_RESIDE</th>\n",
              "      <th>FAMI_ESTRATOVIVIENDA</th>\n",
              "      <th>FAMI_EDUCACIONPADRE</th>\n",
              "      <th>FAMI_EDUCACIONMADRE</th>\n",
              "      <th>FAMI_TIENEINTERNET</th>\n",
              "      <th>FAMI_TIENECOMPUTADOR</th>\n",
              "      <th>COLE_NATURALEZA</th>\n",
              "      <th>COLE_AREA_UBICACION</th>\n",
              "      <th>COLE_JORNADA</th>\n",
              "      <th>PUNT_GLOBAL</th>\n",
              "      <th>ESTU_GENERACION-E</th>\n",
              "      <th>ESTU_EDAD</th>\n",
              "    </tr>\n",
              "  </thead>\n",
              "  <tbody>\n",
              "    <tr>\n",
              "      <th>0</th>\n",
              "      <td>M</td>\n",
              "      <td>27/04/2002</td>\n",
              "      <td>No</td>\n",
              "      <td>CUNDINAMARCA</td>\n",
              "      <td>Estrato 3</td>\n",
              "      <td>No sabe</td>\n",
              "      <td>No sabe</td>\n",
              "      <td>Si</td>\n",
              "      <td>Si</td>\n",
              "      <td>OFICIAL</td>\n",
              "      <td>URBANO</td>\n",
              "      <td>MAÑANA</td>\n",
              "      <td>267</td>\n",
              "      <td>NO</td>\n",
              "      <td>18</td>\n",
              "    </tr>\n",
              "    <tr>\n",
              "      <th>1</th>\n",
              "      <td>M</td>\n",
              "      <td>19/05/2005</td>\n",
              "      <td>Si</td>\n",
              "      <td>VALLE</td>\n",
              "      <td>Estrato 2</td>\n",
              "      <td>Secundaria (Bachillerato) completa</td>\n",
              "      <td>Secundaria (Bachillerato) completa</td>\n",
              "      <td>Si</td>\n",
              "      <td>Si</td>\n",
              "      <td>OFICIAL</td>\n",
              "      <td>URBANO</td>\n",
              "      <td>MAÑANA</td>\n",
              "      <td>282</td>\n",
              "      <td>NO</td>\n",
              "      <td>15</td>\n",
              "    </tr>\n",
              "    <tr>\n",
              "      <th>2</th>\n",
              "      <td>F</td>\n",
              "      <td>07/08/2002</td>\n",
              "      <td>Si</td>\n",
              "      <td>NARIÑO</td>\n",
              "      <td>Estrato 1</td>\n",
              "      <td>Educación profesional completa</td>\n",
              "      <td>Secundaria (Bachillerato) completa</td>\n",
              "      <td>Si</td>\n",
              "      <td>No</td>\n",
              "      <td>OFICIAL</td>\n",
              "      <td>URBANO</td>\n",
              "      <td>MAÑANA</td>\n",
              "      <td>226</td>\n",
              "      <td>GENERACION E - GRATUIDAD</td>\n",
              "      <td>18</td>\n",
              "    </tr>\n",
              "    <tr>\n",
              "      <th>3</th>\n",
              "      <td>M</td>\n",
              "      <td>03/10/2001</td>\n",
              "      <td>Si</td>\n",
              "      <td>BOGOTÁ</td>\n",
              "      <td>Estrato 2</td>\n",
              "      <td>Postgrado</td>\n",
              "      <td>Técnica o tecnológica completa</td>\n",
              "      <td>Si</td>\n",
              "      <td>Si</td>\n",
              "      <td>OFICIAL</td>\n",
              "      <td>URBANO</td>\n",
              "      <td>MAÑANA</td>\n",
              "      <td>237</td>\n",
              "      <td>NO</td>\n",
              "      <td>19</td>\n",
              "    </tr>\n",
              "    <tr>\n",
              "      <th>4</th>\n",
              "      <td>M</td>\n",
              "      <td>21/08/2002</td>\n",
              "      <td>No</td>\n",
              "      <td>ANTIOQUIA</td>\n",
              "      <td>Estrato 2</td>\n",
              "      <td>Educación profesional incompleta</td>\n",
              "      <td>Primaria incompleta</td>\n",
              "      <td>Si</td>\n",
              "      <td>Si</td>\n",
              "      <td>OFICIAL</td>\n",
              "      <td>URBANO</td>\n",
              "      <td>MAÑANA</td>\n",
              "      <td>229</td>\n",
              "      <td>NO</td>\n",
              "      <td>18</td>\n",
              "    </tr>\n",
              "  </tbody>\n",
              "</table>\n",
              "</div>\n",
              "      <button class=\"colab-df-convert\" onclick=\"convertToInteractive('df-bfec15d1-d9de-40e9-bba4-1b8b5a4fd6c5')\"\n",
              "              title=\"Convert this dataframe to an interactive table.\"\n",
              "              style=\"display:none;\">\n",
              "        \n",
              "  <svg xmlns=\"http://www.w3.org/2000/svg\" height=\"24px\"viewBox=\"0 0 24 24\"\n",
              "       width=\"24px\">\n",
              "    <path d=\"M0 0h24v24H0V0z\" fill=\"none\"/>\n",
              "    <path d=\"M18.56 5.44l.94 2.06.94-2.06 2.06-.94-2.06-.94-.94-2.06-.94 2.06-2.06.94zm-11 1L8.5 8.5l.94-2.06 2.06-.94-2.06-.94L8.5 2.5l-.94 2.06-2.06.94zm10 10l.94 2.06.94-2.06 2.06-.94-2.06-.94-.94-2.06-.94 2.06-2.06.94z\"/><path d=\"M17.41 7.96l-1.37-1.37c-.4-.4-.92-.59-1.43-.59-.52 0-1.04.2-1.43.59L10.3 9.45l-7.72 7.72c-.78.78-.78 2.05 0 2.83L4 21.41c.39.39.9.59 1.41.59.51 0 1.02-.2 1.41-.59l7.78-7.78 2.81-2.81c.8-.78.8-2.07 0-2.86zM5.41 20L4 18.59l7.72-7.72 1.47 1.35L5.41 20z\"/>\n",
              "  </svg>\n",
              "      </button>\n",
              "      \n",
              "  <style>\n",
              "    .colab-df-container {\n",
              "      display:flex;\n",
              "      flex-wrap:wrap;\n",
              "      gap: 12px;\n",
              "    }\n",
              "\n",
              "    .colab-df-convert {\n",
              "      background-color: #E8F0FE;\n",
              "      border: none;\n",
              "      border-radius: 50%;\n",
              "      cursor: pointer;\n",
              "      display: none;\n",
              "      fill: #1967D2;\n",
              "      height: 32px;\n",
              "      padding: 0 0 0 0;\n",
              "      width: 32px;\n",
              "    }\n",
              "\n",
              "    .colab-df-convert:hover {\n",
              "      background-color: #E2EBFA;\n",
              "      box-shadow: 0px 1px 2px rgba(60, 64, 67, 0.3), 0px 1px 3px 1px rgba(60, 64, 67, 0.15);\n",
              "      fill: #174EA6;\n",
              "    }\n",
              "\n",
              "    [theme=dark] .colab-df-convert {\n",
              "      background-color: #3B4455;\n",
              "      fill: #D2E3FC;\n",
              "    }\n",
              "\n",
              "    [theme=dark] .colab-df-convert:hover {\n",
              "      background-color: #434B5C;\n",
              "      box-shadow: 0px 1px 3px 1px rgba(0, 0, 0, 0.15);\n",
              "      filter: drop-shadow(0px 1px 2px rgba(0, 0, 0, 0.3));\n",
              "      fill: #FFFFFF;\n",
              "    }\n",
              "  </style>\n",
              "\n",
              "      <script>\n",
              "        const buttonEl =\n",
              "          document.querySelector('#df-bfec15d1-d9de-40e9-bba4-1b8b5a4fd6c5 button.colab-df-convert');\n",
              "        buttonEl.style.display =\n",
              "          google.colab.kernel.accessAllowed ? 'block' : 'none';\n",
              "\n",
              "        async function convertToInteractive(key) {\n",
              "          const element = document.querySelector('#df-bfec15d1-d9de-40e9-bba4-1b8b5a4fd6c5');\n",
              "          const dataTable =\n",
              "            await google.colab.kernel.invokeFunction('convertToInteractive',\n",
              "                                                     [key], {});\n",
              "          if (!dataTable) return;\n",
              "\n",
              "          const docLinkHtml = 'Like what you see? Visit the ' +\n",
              "            '<a target=\"_blank\" href=https://colab.research.google.com/notebooks/data_table.ipynb>data table notebook</a>'\n",
              "            + ' to learn more about interactive tables.';\n",
              "          element.innerHTML = '';\n",
              "          dataTable['output_type'] = 'display_data';\n",
              "          await google.colab.output.renderOutput(dataTable, element);\n",
              "          const docLink = document.createElement('div');\n",
              "          docLink.innerHTML = docLinkHtml;\n",
              "          element.appendChild(docLink);\n",
              "        }\n",
              "      </script>\n",
              "    </div>\n",
              "  </div>\n",
              "  "
            ]
          },
          "metadata": {},
          "execution_count": 39
        }
      ]
    },
    {
      "cell_type": "markdown",
      "source": [
        "### Detección y corrección de datos atípicos\n"
      ],
      "metadata": {
        "id": "LAOEPt38-BrY"
      }
    },
    {
      "cell_type": "markdown",
      "source": [
        "Hagamos una revisión e inspección visual de la variable `EDAD` usando un boxplot. Es bastante claro la presencia de valores atípicos, con una edad máxima de 2018."
      ],
      "metadata": {
        "id": "_55JD3tn-NqC"
      }
    },
    {
      "cell_type": "code",
      "source": [
        "icfes.ESTU_EDAD.value_counts(normalize = True)"
      ],
      "metadata": {
        "colab": {
          "base_uri": "https://localhost:8080/"
        },
        "id": "oZVkdYQ-fhVB",
        "outputId": "8f36b25c-4c53-4626-c748-d3b6f7c2d53e"
      },
      "execution_count": null,
      "outputs": [
        {
          "output_type": "execute_result",
          "data": {
            "text/plain": [
              "17      0.425208\n",
              "16      0.222206\n",
              "18      0.200883\n",
              "19      0.081962\n",
              "20      0.025373\n",
              "          ...   \n",
              "73      0.000010\n",
              "2018    0.000010\n",
              "2017    0.000010\n",
              "5       0.000010\n",
              "120     0.000010\n",
              "Name: ESTU_EDAD, Length: 69, dtype: float64"
            ]
          },
          "metadata": {},
          "execution_count": 41
        }
      ]
    },
    {
      "cell_type": "code",
      "source": [
        "icfes.describe()"
      ],
      "metadata": {
        "id": "AkenioX7-WpO",
        "outputId": "43939979-b107-470b-c07c-c48505e4a3e9",
        "colab": {
          "base_uri": "https://localhost:8080/",
          "height": 300
        }
      },
      "execution_count": null,
      "outputs": [
        {
          "output_type": "execute_result",
          "data": {
            "text/plain": [
              "         PUNT_GLOBAL      ESTU_EDAD\n",
              "count  100974.000000  100974.000000\n",
              "mean      248.445986      17.635966\n",
              "std        48.741511       9.357959\n",
              "min         0.000000       0.000000\n",
              "25%       211.000000      17.000000\n",
              "50%       245.000000      17.000000\n",
              "75%       282.000000      18.000000\n",
              "max       500.000000    2018.000000"
            ],
            "text/html": [
              "\n",
              "  <div id=\"df-b45dbe8d-c325-4ea4-8219-3e29a7a91382\">\n",
              "    <div class=\"colab-df-container\">\n",
              "      <div>\n",
              "<style scoped>\n",
              "    .dataframe tbody tr th:only-of-type {\n",
              "        vertical-align: middle;\n",
              "    }\n",
              "\n",
              "    .dataframe tbody tr th {\n",
              "        vertical-align: top;\n",
              "    }\n",
              "\n",
              "    .dataframe thead th {\n",
              "        text-align: right;\n",
              "    }\n",
              "</style>\n",
              "<table border=\"1\" class=\"dataframe\">\n",
              "  <thead>\n",
              "    <tr style=\"text-align: right;\">\n",
              "      <th></th>\n",
              "      <th>PUNT_GLOBAL</th>\n",
              "      <th>ESTU_EDAD</th>\n",
              "    </tr>\n",
              "  </thead>\n",
              "  <tbody>\n",
              "    <tr>\n",
              "      <th>count</th>\n",
              "      <td>100974.000000</td>\n",
              "      <td>100974.000000</td>\n",
              "    </tr>\n",
              "    <tr>\n",
              "      <th>mean</th>\n",
              "      <td>248.445986</td>\n",
              "      <td>17.635966</td>\n",
              "    </tr>\n",
              "    <tr>\n",
              "      <th>std</th>\n",
              "      <td>48.741511</td>\n",
              "      <td>9.357959</td>\n",
              "    </tr>\n",
              "    <tr>\n",
              "      <th>min</th>\n",
              "      <td>0.000000</td>\n",
              "      <td>0.000000</td>\n",
              "    </tr>\n",
              "    <tr>\n",
              "      <th>25%</th>\n",
              "      <td>211.000000</td>\n",
              "      <td>17.000000</td>\n",
              "    </tr>\n",
              "    <tr>\n",
              "      <th>50%</th>\n",
              "      <td>245.000000</td>\n",
              "      <td>17.000000</td>\n",
              "    </tr>\n",
              "    <tr>\n",
              "      <th>75%</th>\n",
              "      <td>282.000000</td>\n",
              "      <td>18.000000</td>\n",
              "    </tr>\n",
              "    <tr>\n",
              "      <th>max</th>\n",
              "      <td>500.000000</td>\n",
              "      <td>2018.000000</td>\n",
              "    </tr>\n",
              "  </tbody>\n",
              "</table>\n",
              "</div>\n",
              "      <button class=\"colab-df-convert\" onclick=\"convertToInteractive('df-b45dbe8d-c325-4ea4-8219-3e29a7a91382')\"\n",
              "              title=\"Convert this dataframe to an interactive table.\"\n",
              "              style=\"display:none;\">\n",
              "        \n",
              "  <svg xmlns=\"http://www.w3.org/2000/svg\" height=\"24px\"viewBox=\"0 0 24 24\"\n",
              "       width=\"24px\">\n",
              "    <path d=\"M0 0h24v24H0V0z\" fill=\"none\"/>\n",
              "    <path d=\"M18.56 5.44l.94 2.06.94-2.06 2.06-.94-2.06-.94-.94-2.06-.94 2.06-2.06.94zm-11 1L8.5 8.5l.94-2.06 2.06-.94-2.06-.94L8.5 2.5l-.94 2.06-2.06.94zm10 10l.94 2.06.94-2.06 2.06-.94-2.06-.94-.94-2.06-.94 2.06-2.06.94z\"/><path d=\"M17.41 7.96l-1.37-1.37c-.4-.4-.92-.59-1.43-.59-.52 0-1.04.2-1.43.59L10.3 9.45l-7.72 7.72c-.78.78-.78 2.05 0 2.83L4 21.41c.39.39.9.59 1.41.59.51 0 1.02-.2 1.41-.59l7.78-7.78 2.81-2.81c.8-.78.8-2.07 0-2.86zM5.41 20L4 18.59l7.72-7.72 1.47 1.35L5.41 20z\"/>\n",
              "  </svg>\n",
              "      </button>\n",
              "      \n",
              "  <style>\n",
              "    .colab-df-container {\n",
              "      display:flex;\n",
              "      flex-wrap:wrap;\n",
              "      gap: 12px;\n",
              "    }\n",
              "\n",
              "    .colab-df-convert {\n",
              "      background-color: #E8F0FE;\n",
              "      border: none;\n",
              "      border-radius: 50%;\n",
              "      cursor: pointer;\n",
              "      display: none;\n",
              "      fill: #1967D2;\n",
              "      height: 32px;\n",
              "      padding: 0 0 0 0;\n",
              "      width: 32px;\n",
              "    }\n",
              "\n",
              "    .colab-df-convert:hover {\n",
              "      background-color: #E2EBFA;\n",
              "      box-shadow: 0px 1px 2px rgba(60, 64, 67, 0.3), 0px 1px 3px 1px rgba(60, 64, 67, 0.15);\n",
              "      fill: #174EA6;\n",
              "    }\n",
              "\n",
              "    [theme=dark] .colab-df-convert {\n",
              "      background-color: #3B4455;\n",
              "      fill: #D2E3FC;\n",
              "    }\n",
              "\n",
              "    [theme=dark] .colab-df-convert:hover {\n",
              "      background-color: #434B5C;\n",
              "      box-shadow: 0px 1px 3px 1px rgba(0, 0, 0, 0.15);\n",
              "      filter: drop-shadow(0px 1px 2px rgba(0, 0, 0, 0.3));\n",
              "      fill: #FFFFFF;\n",
              "    }\n",
              "  </style>\n",
              "\n",
              "      <script>\n",
              "        const buttonEl =\n",
              "          document.querySelector('#df-b45dbe8d-c325-4ea4-8219-3e29a7a91382 button.colab-df-convert');\n",
              "        buttonEl.style.display =\n",
              "          google.colab.kernel.accessAllowed ? 'block' : 'none';\n",
              "\n",
              "        async function convertToInteractive(key) {\n",
              "          const element = document.querySelector('#df-b45dbe8d-c325-4ea4-8219-3e29a7a91382');\n",
              "          const dataTable =\n",
              "            await google.colab.kernel.invokeFunction('convertToInteractive',\n",
              "                                                     [key], {});\n",
              "          if (!dataTable) return;\n",
              "\n",
              "          const docLinkHtml = 'Like what you see? Visit the ' +\n",
              "            '<a target=\"_blank\" href=https://colab.research.google.com/notebooks/data_table.ipynb>data table notebook</a>'\n",
              "            + ' to learn more about interactive tables.';\n",
              "          element.innerHTML = '';\n",
              "          dataTable['output_type'] = 'display_data';\n",
              "          await google.colab.output.renderOutput(dataTable, element);\n",
              "          const docLink = document.createElement('div');\n",
              "          docLink.innerHTML = docLinkHtml;\n",
              "          element.appendChild(docLink);\n",
              "        }\n",
              "      </script>\n",
              "    </div>\n",
              "  </div>\n",
              "  "
            ]
          },
          "metadata": {},
          "execution_count": 40
        }
      ]
    },
    {
      "cell_type": "code",
      "source": [
        "sns.boxplot(data=icfes, x='ESTU_EDAD')"
      ],
      "metadata": {
        "id": "wpilZyJP-bvO",
        "outputId": "da24c555-af03-476d-c6d9-8035677d1be7",
        "colab": {
          "base_uri": "https://localhost:8080/",
          "height": 297
        }
      },
      "execution_count": null,
      "outputs": [
        {
          "output_type": "execute_result",
          "data": {
            "text/plain": [
              "<matplotlib.axes._subplots.AxesSubplot at 0x7f0577d682d0>"
            ]
          },
          "metadata": {},
          "execution_count": 72
        },
        {
          "output_type": "display_data",
          "data": {
            "text/plain": [
              "<Figure size 432x288 with 1 Axes>"
            ],
            "image/png": "[encoded data removed]"
          },
          "metadata": {
            "needs_background": "light"
          }
        }
      ]
    },
    {
      "cell_type": "code",
      "source": [
        "plt.hist( icfes['ESTU_EDAD'])\n",
        "plt.show();"
      ],
      "metadata": {
        "colab": {
          "base_uri": "https://localhost:8080/",
          "height": 265
        },
        "id": "eas57vSv7Y_d",
        "outputId": "aca4916a-305a-4960-cc70-4a4c18b00434"
      },
      "execution_count": null,
      "outputs": [
        {
          "output_type": "display_data",
          "data": {
            "text/plain": [
              "<Figure size 432x288 with 1 Axes>"
            ],
            "image/png": "[encoded data removed]"
          },
          "metadata": {
            "needs_background": "light"
          }
        }
      ]
    },
    {
      "cell_type": "code",
      "source": [
        "icfes.shape"
      ],
      "metadata": {
        "colab": {
          "base_uri": "https://localhost:8080/"
        },
        "id": "JG9KsuuwgcZX",
        "outputId": "020845fc-c591-4dfa-c392-759c52b4bf69"
      },
      "execution_count": null,
      "outputs": [
        {
          "output_type": "execute_result",
          "data": {
            "text/plain": [
              "(100974, 15)"
            ]
          },
          "metadata": {},
          "execution_count": 44
        }
      ]
    },
    {
      "cell_type": "code",
      "source": [
        "# limite es 15\n",
        "\n",
        "limite_inferior = 14\n",
        "limite_superior = 100\n",
        "\n",
        "icfes_2 = icfes[(icfes['ESTU_EDAD'] >= limite_inferior) & (icfes['ESTU_EDAD'] <= limite_superior)]"
      ],
      "metadata": {
        "id": "8nVp58J0gAW8"
      },
      "execution_count": null,
      "outputs": []
    },
    {
      "cell_type": "code",
      "source": [
        "icfes_2.shape"
      ],
      "metadata": {
        "colab": {
          "base_uri": "https://localhost:8080/"
        },
        "id": "R2fo_j7KiBie",
        "outputId": "a448de9a-8b83-4c50-c421-789b385436ed"
      },
      "execution_count": null,
      "outputs": [
        {
          "output_type": "execute_result",
          "data": {
            "text/plain": [
              "(100911, 15)"
            ]
          },
          "metadata": {},
          "execution_count": 56
        }
      ]
    },
    {
      "cell_type": "code",
      "source": [
        "icfes_2.describe()"
      ],
      "metadata": {
        "colab": {
          "base_uri": "https://localhost:8080/",
          "height": 300
        },
        "id": "fCYDB2U-h-D7",
        "outputId": "95673d52-0f40-4a13-a2c2-97d310ef6baa"
      },
      "execution_count": null,
      "outputs": [
        {
          "output_type": "execute_result",
          "data": {
            "text/plain": [
              "         PUNT_GLOBAL      ESTU_EDAD\n",
              "count  100911.000000  100911.000000\n",
              "mean      248.444362      17.601619\n",
              "std        48.741126       2.859072\n",
              "min         0.000000      14.000000\n",
              "25%       211.000000      17.000000\n",
              "50%       245.000000      17.000000\n",
              "75%       282.000000      18.000000\n",
              "max       500.000000      74.000000"
            ],
            "text/html": [
              "\n",
              "  <div id=\"df-a50cb645-fad6-4f6c-8bb4-32370d4e2d3d\">\n",
              "    <div class=\"colab-df-container\">\n",
              "      <div>\n",
              "<style scoped>\n",
              "    .dataframe tbody tr th:only-of-type {\n",
              "        vertical-align: middle;\n",
              "    }\n",
              "\n",
              "    .dataframe tbody tr th {\n",
              "        vertical-align: top;\n",
              "    }\n",
              "\n",
              "    .dataframe thead th {\n",
              "        text-align: right;\n",
              "    }\n",
              "</style>\n",
              "<table border=\"1\" class=\"dataframe\">\n",
              "  <thead>\n",
              "    <tr style=\"text-align: right;\">\n",
              "      <th></th>\n",
              "      <th>PUNT_GLOBAL</th>\n",
              "      <th>ESTU_EDAD</th>\n",
              "    </tr>\n",
              "  </thead>\n",
              "  <tbody>\n",
              "    <tr>\n",
              "      <th>count</th>\n",
              "      <td>100911.000000</td>\n",
              "      <td>100911.000000</td>\n",
              "    </tr>\n",
              "    <tr>\n",
              "      <th>mean</th>\n",
              "      <td>248.444362</td>\n",
              "      <td>17.601619</td>\n",
              "    </tr>\n",
              "    <tr>\n",
              "      <th>std</th>\n",
              "      <td>48.741126</td>\n",
              "      <td>2.859072</td>\n",
              "    </tr>\n",
              "    <tr>\n",
              "      <th>min</th>\n",
              "      <td>0.000000</td>\n",
              "      <td>14.000000</td>\n",
              "    </tr>\n",
              "    <tr>\n",
              "      <th>25%</th>\n",
              "      <td>211.000000</td>\n",
              "      <td>17.000000</td>\n",
              "    </tr>\n",
              "    <tr>\n",
              "      <th>50%</th>\n",
              "      <td>245.000000</td>\n",
              "      <td>17.000000</td>\n",
              "    </tr>\n",
              "    <tr>\n",
              "      <th>75%</th>\n",
              "      <td>282.000000</td>\n",
              "      <td>18.000000</td>\n",
              "    </tr>\n",
              "    <tr>\n",
              "      <th>max</th>\n",
              "      <td>500.000000</td>\n",
              "      <td>74.000000</td>\n",
              "    </tr>\n",
              "  </tbody>\n",
              "</table>\n",
              "</div>\n",
              "      <button class=\"colab-df-convert\" onclick=\"convertToInteractive('df-a50cb645-fad6-4f6c-8bb4-32370d4e2d3d')\"\n",
              "              title=\"Convert this dataframe to an interactive table.\"\n",
              "              style=\"display:none;\">\n",
              "        \n",
              "  <svg xmlns=\"http://www.w3.org/2000/svg\" height=\"24px\"viewBox=\"0 0 24 24\"\n",
              "       width=\"24px\">\n",
              "    <path d=\"M0 0h24v24H0V0z\" fill=\"none\"/>\n",
              "    <path d=\"M18.56 5.44l.94 2.06.94-2.06 2.06-.94-2.06-.94-.94-2.06-.94 2.06-2.06.94zm-11 1L8.5 8.5l.94-2.06 2.06-.94-2.06-.94L8.5 2.5l-.94 2.06-2.06.94zm10 10l.94 2.06.94-2.06 2.06-.94-2.06-.94-.94-2.06-.94 2.06-2.06.94z\"/><path d=\"M17.41 7.96l-1.37-1.37c-.4-.4-.92-.59-1.43-.59-.52 0-1.04.2-1.43.59L10.3 9.45l-7.72 7.72c-.78.78-.78 2.05 0 2.83L4 21.41c.39.39.9.59 1.41.59.51 0 1.02-.2 1.41-.59l7.78-7.78 2.81-2.81c.8-.78.8-2.07 0-2.86zM5.41 20L4 18.59l7.72-7.72 1.47 1.35L5.41 20z\"/>\n",
              "  </svg>\n",
              "      </button>\n",
              "      \n",
              "  <style>\n",
              "    .colab-df-container {\n",
              "      display:flex;\n",
              "      flex-wrap:wrap;\n",
              "      gap: 12px;\n",
              "    }\n",
              "\n",
              "    .colab-df-convert {\n",
              "      background-color: #E8F0FE;\n",
              "      border: none;\n",
              "      border-radius: 50%;\n",
              "      cursor: pointer;\n",
              "      display: none;\n",
              "      fill: #1967D2;\n",
              "      height: 32px;\n",
              "      padding: 0 0 0 0;\n",
              "      width: 32px;\n",
              "    }\n",
              "\n",
              "    .colab-df-convert:hover {\n",
              "      background-color: #E2EBFA;\n",
              "      box-shadow: 0px 1px 2px rgba(60, 64, 67, 0.3), 0px 1px 3px 1px rgba(60, 64, 67, 0.15);\n",
              "      fill: #174EA6;\n",
              "    }\n",
              "\n",
              "    [theme=dark] .colab-df-convert {\n",
              "      background-color: #3B4455;\n",
              "      fill: #D2E3FC;\n",
              "    }\n",
              "\n",
              "    [theme=dark] .colab-df-convert:hover {\n",
              "      background-color: #434B5C;\n",
              "      box-shadow: 0px 1px 3px 1px rgba(0, 0, 0, 0.15);\n",
              "      filter: drop-shadow(0px 1px 2px rgba(0, 0, 0, 0.3));\n",
              "      fill: #FFFFFF;\n",
              "    }\n",
              "  </style>\n",
              "\n",
              "      <script>\n",
              "        const buttonEl =\n",
              "          document.querySelector('#df-a50cb645-fad6-4f6c-8bb4-32370d4e2d3d button.colab-df-convert');\n",
              "        buttonEl.style.display =\n",
              "          google.colab.kernel.accessAllowed ? 'block' : 'none';\n",
              "\n",
              "        async function convertToInteractive(key) {\n",
              "          const element = document.querySelector('#df-a50cb645-fad6-4f6c-8bb4-32370d4e2d3d');\n",
              "          const dataTable =\n",
              "            await google.colab.kernel.invokeFunction('convertToInteractive',\n",
              "                                                     [key], {});\n",
              "          if (!dataTable) return;\n",
              "\n",
              "          const docLinkHtml = 'Like what you see? Visit the ' +\n",
              "            '<a target=\"_blank\" href=https://colab.research.google.com/notebooks/data_table.ipynb>data table notebook</a>'\n",
              "            + ' to learn more about interactive tables.';\n",
              "          element.innerHTML = '';\n",
              "          dataTable['output_type'] = 'display_data';\n",
              "          await google.colab.output.renderOutput(dataTable, element);\n",
              "          const docLink = document.createElement('div');\n",
              "          docLink.innerHTML = docLinkHtml;\n",
              "          element.appendChild(docLink);\n",
              "        }\n",
              "      </script>\n",
              "    </div>\n",
              "  </div>\n",
              "  "
            ]
          },
          "metadata": {},
          "execution_count": 55
        }
      ]
    },
    {
      "cell_type": "code",
      "source": [
        "icfes.info()"
      ],
      "metadata": {
        "colab": {
          "base_uri": "https://localhost:8080/"
        },
        "id": "w-FwHxR2hPYT",
        "outputId": "fb5ca7d6-b669-45de-d67b-0d8fdc5c42a0"
      },
      "execution_count": null,
      "outputs": [
        {
          "output_type": "stream",
          "name": "stdout",
          "text": [
            "<class 'pandas.core.frame.DataFrame'>\n",
            "RangeIndex: 100974 entries, 0 to 100973\n",
            "Data columns (total 15 columns):\n",
            " #   Column                Non-Null Count   Dtype \n",
            "---  ------                --------------   ----- \n",
            " 0   ESTU_GENERO           100972 non-null  object\n",
            " 1   ESTU_FECHANACIMIENTO  100974 non-null  object\n",
            " 2   ESTU_TIENEETNIA       100363 non-null  object\n",
            " 3   ESTU_DEPTO_RESIDE     100974 non-null  object\n",
            " 4   FAMI_ESTRATOVIVIENDA  97576 non-null   object\n",
            " 5   FAMI_EDUCACIONPADRE   98373 non-null   object\n",
            " 6   FAMI_EDUCACIONMADRE   98267 non-null   object\n",
            " 7   FAMI_TIENEINTERNET    98274 non-null   object\n",
            " 8   FAMI_TIENECOMPUTADOR  96928 non-null   object\n",
            " 9   COLE_NATURALEZA       100974 non-null  object\n",
            " 10  COLE_AREA_UBICACION   100974 non-null  object\n",
            " 11  COLE_JORNADA          100974 non-null  object\n",
            " 12  PUNT_GLOBAL           100974 non-null  int64 \n",
            " 13  ESTU_GENERACION-E     100974 non-null  object\n",
            " 14  ESTU_EDAD             100974 non-null  int64 \n",
            "dtypes: int64(2), object(13)\n",
            "memory usage: 11.6+ MB\n"
          ]
        }
      ]
    },
    {
      "cell_type": "code",
      "source": [
        "icfes.loc[icfes['ESTU_EDAD'] > 70,['ESTU_EDAD','ESTU_FECHANACIMIENTO']]"
      ],
      "metadata": {
        "colab": {
          "base_uri": "https://localhost:8080/",
          "height": 206
        },
        "id": "UwyP-HhGgzOV",
        "outputId": "9ea2613b-76cd-4bbc-ee7f-daf856ac675a"
      },
      "execution_count": null,
      "outputs": [
        {
          "output_type": "execute_result",
          "data": {
            "text/plain": [
              "       ESTU_EDAD ESTU_FECHANACIMIENTO\n",
              "11817         73           15/01/1947\n",
              "44137         74           18/05/1946\n",
              "73036       2018           30/06/0002\n",
              "80700       2017           07/04/0003\n",
              "87761        120           01/01/1900"
            ],
            "text/html": [
              "\n",
              "  <div id=\"df-5d8c012d-3761-4ffc-ba95-af2824e2111e\">\n",
              "    <div class=\"colab-df-container\">\n",
              "      <div>\n",
              "<style scoped>\n",
              "    .dataframe tbody tr th:only-of-type {\n",
              "        vertical-align: middle;\n",
              "    }\n",
              "\n",
              "    .dataframe tbody tr th {\n",
              "        vertical-align: top;\n",
              "    }\n",
              "\n",
              "    .dataframe thead th {\n",
              "        text-align: right;\n",
              "    }\n",
              "</style>\n",
              "<table border=\"1\" class=\"dataframe\">\n",
              "  <thead>\n",
              "    <tr style=\"text-align: right;\">\n",
              "      <th></th>\n",
              "      <th>ESTU_EDAD</th>\n",
              "      <th>ESTU_FECHANACIMIENTO</th>\n",
              "    </tr>\n",
              "  </thead>\n",
              "  <tbody>\n",
              "    <tr>\n",
              "      <th>11817</th>\n",
              "      <td>73</td>\n",
              "      <td>15/01/1947</td>\n",
              "    </tr>\n",
              "    <tr>\n",
              "      <th>44137</th>\n",
              "      <td>74</td>\n",
              "      <td>18/05/1946</td>\n",
              "    </tr>\n",
              "    <tr>\n",
              "      <th>73036</th>\n",
              "      <td>2018</td>\n",
              "      <td>30/06/0002</td>\n",
              "    </tr>\n",
              "    <tr>\n",
              "      <th>80700</th>\n",
              "      <td>2017</td>\n",
              "      <td>07/04/0003</td>\n",
              "    </tr>\n",
              "    <tr>\n",
              "      <th>87761</th>\n",
              "      <td>120</td>\n",
              "      <td>01/01/1900</td>\n",
              "    </tr>\n",
              "  </tbody>\n",
              "</table>\n",
              "</div>\n",
              "      <button class=\"colab-df-convert\" onclick=\"convertToInteractive('df-5d8c012d-3761-4ffc-ba95-af2824e2111e')\"\n",
              "              title=\"Convert this dataframe to an interactive table.\"\n",
              "              style=\"display:none;\">\n",
              "        \n",
              "  <svg xmlns=\"http://www.w3.org/2000/svg\" height=\"24px\"viewBox=\"0 0 24 24\"\n",
              "       width=\"24px\">\n",
              "    <path d=\"M0 0h24v24H0V0z\" fill=\"none\"/>\n",
              "    <path d=\"M18.56 5.44l.94 2.06.94-2.06 2.06-.94-2.06-.94-.94-2.06-.94 2.06-2.06.94zm-11 1L8.5 8.5l.94-2.06 2.06-.94-2.06-.94L8.5 2.5l-.94 2.06-2.06.94zm10 10l.94 2.06.94-2.06 2.06-.94-2.06-.94-.94-2.06-.94 2.06-2.06.94z\"/><path d=\"M17.41 7.96l-1.37-1.37c-.4-.4-.92-.59-1.43-.59-.52 0-1.04.2-1.43.59L10.3 9.45l-7.72 7.72c-.78.78-.78 2.05 0 2.83L4 21.41c.39.39.9.59 1.41.59.51 0 1.02-.2 1.41-.59l7.78-7.78 2.81-2.81c.8-.78.8-2.07 0-2.86zM5.41 20L4 18.59l7.72-7.72 1.47 1.35L5.41 20z\"/>\n",
              "  </svg>\n",
              "      </button>\n",
              "      \n",
              "  <style>\n",
              "    .colab-df-container {\n",
              "      display:flex;\n",
              "      flex-wrap:wrap;\n",
              "      gap: 12px;\n",
              "    }\n",
              "\n",
              "    .colab-df-convert {\n",
              "      background-color: #E8F0FE;\n",
              "      border: none;\n",
              "      border-radius: 50%;\n",
              "      cursor: pointer;\n",
              "      display: none;\n",
              "      fill: #1967D2;\n",
              "      height: 32px;\n",
              "      padding: 0 0 0 0;\n",
              "      width: 32px;\n",
              "    }\n",
              "\n",
              "    .colab-df-convert:hover {\n",
              "      background-color: #E2EBFA;\n",
              "      box-shadow: 0px 1px 2px rgba(60, 64, 67, 0.3), 0px 1px 3px 1px rgba(60, 64, 67, 0.15);\n",
              "      fill: #174EA6;\n",
              "    }\n",
              "\n",
              "    [theme=dark] .colab-df-convert {\n",
              "      background-color: #3B4455;\n",
              "      fill: #D2E3FC;\n",
              "    }\n",
              "\n",
              "    [theme=dark] .colab-df-convert:hover {\n",
              "      background-color: #434B5C;\n",
              "      box-shadow: 0px 1px 3px 1px rgba(0, 0, 0, 0.15);\n",
              "      filter: drop-shadow(0px 1px 2px rgba(0, 0, 0, 0.3));\n",
              "      fill: #FFFFFF;\n",
              "    }\n",
              "  </style>\n",
              "\n",
              "      <script>\n",
              "        const buttonEl =\n",
              "          document.querySelector('#df-5d8c012d-3761-4ffc-ba95-af2824e2111e button.colab-df-convert');\n",
              "        buttonEl.style.display =\n",
              "          google.colab.kernel.accessAllowed ? 'block' : 'none';\n",
              "\n",
              "        async function convertToInteractive(key) {\n",
              "          const element = document.querySelector('#df-5d8c012d-3761-4ffc-ba95-af2824e2111e');\n",
              "          const dataTable =\n",
              "            await google.colab.kernel.invokeFunction('convertToInteractive',\n",
              "                                                     [key], {});\n",
              "          if (!dataTable) return;\n",
              "\n",
              "          const docLinkHtml = 'Like what you see? Visit the ' +\n",
              "            '<a target=\"_blank\" href=https://colab.research.google.com/notebooks/data_table.ipynb>data table notebook</a>'\n",
              "            + ' to learn more about interactive tables.';\n",
              "          element.innerHTML = '';\n",
              "          dataTable['output_type'] = 'display_data';\n",
              "          await google.colab.output.renderOutput(dataTable, element);\n",
              "          const docLink = document.createElement('div');\n",
              "          docLink.innerHTML = docLinkHtml;\n",
              "          element.appendChild(docLink);\n",
              "        }\n",
              "      </script>\n",
              "    </div>\n",
              "  </div>\n",
              "  "
            ]
          },
          "metadata": {},
          "execution_count": 52
        }
      ]
    },
    {
      "cell_type": "code",
      "source": [
        "icfes['ESTU_EDAD'] <=15"
      ],
      "metadata": {
        "colab": {
          "base_uri": "https://localhost:8080/"
        },
        "id": "1JqDwdQQgOfQ",
        "outputId": "69dd10f9-a424-4190-c89a-2228500f2984"
      },
      "execution_count": null,
      "outputs": [
        {
          "output_type": "execute_result",
          "data": {
            "text/plain": [
              "0         False\n",
              "1          True\n",
              "2         False\n",
              "3         False\n",
              "4         False\n",
              "          ...  \n",
              "100969    False\n",
              "100970    False\n",
              "100971    False\n",
              "100972    False\n",
              "100973    False\n",
              "Name: ESTU_EDAD, Length: 100974, dtype: bool"
            ]
          },
          "metadata": {},
          "execution_count": 42
        }
      ]
    },
    {
      "cell_type": "markdown",
      "source": [
        "Veamos los datos atípicos usando un filtro."
      ],
      "metadata": {
        "id": "0sveBoiY-mmL"
      }
    },
    {
      "cell_type": "code",
      "source": [
        "icfes.loc[icfes['ESTU_EDAD']> 80,['ESTU_EDAD','ESTU_FECHANACIMIENTO']]"
      ],
      "metadata": {
        "id": "Urmb1mV1-qg4",
        "outputId": "ad6876de-630c-4fff-e62f-753b46cf32ad",
        "colab": {
          "base_uri": "https://localhost:8080/",
          "height": 143
        }
      },
      "execution_count": null,
      "outputs": [
        {
          "output_type": "execute_result",
          "data": {
            "text/plain": [
              "       ESTU_EDAD ESTU_FECHANACIMIENTO\n",
              "73036       2018           30/06/0002\n",
              "80700       2017           07/04/0003\n",
              "87761        120           01/01/1900"
            ],
            "text/html": [
              "\n",
              "  <div id=\"df-c3405db6-c1ba-474b-bc1a-c50b25b6e8f6\">\n",
              "    <div class=\"colab-df-container\">\n",
              "      <div>\n",
              "<style scoped>\n",
              "    .dataframe tbody tr th:only-of-type {\n",
              "        vertical-align: middle;\n",
              "    }\n",
              "\n",
              "    .dataframe tbody tr th {\n",
              "        vertical-align: top;\n",
              "    }\n",
              "\n",
              "    .dataframe thead th {\n",
              "        text-align: right;\n",
              "    }\n",
              "</style>\n",
              "<table border=\"1\" class=\"dataframe\">\n",
              "  <thead>\n",
              "    <tr style=\"text-align: right;\">\n",
              "      <th></th>\n",
              "      <th>ESTU_EDAD</th>\n",
              "      <th>ESTU_FECHANACIMIENTO</th>\n",
              "    </tr>\n",
              "  </thead>\n",
              "  <tbody>\n",
              "    <tr>\n",
              "      <th>73036</th>\n",
              "      <td>2018</td>\n",
              "      <td>30/06/0002</td>\n",
              "    </tr>\n",
              "    <tr>\n",
              "      <th>80700</th>\n",
              "      <td>2017</td>\n",
              "      <td>07/04/0003</td>\n",
              "    </tr>\n",
              "    <tr>\n",
              "      <th>87761</th>\n",
              "      <td>120</td>\n",
              "      <td>01/01/1900</td>\n",
              "    </tr>\n",
              "  </tbody>\n",
              "</table>\n",
              "</div>\n",
              "      <button class=\"colab-df-convert\" onclick=\"convertToInteractive('df-c3405db6-c1ba-474b-bc1a-c50b25b6e8f6')\"\n",
              "              title=\"Convert this dataframe to an interactive table.\"\n",
              "              style=\"display:none;\">\n",
              "        \n",
              "  <svg xmlns=\"http://www.w3.org/2000/svg\" height=\"24px\"viewBox=\"0 0 24 24\"\n",
              "       width=\"24px\">\n",
              "    <path d=\"M0 0h24v24H0V0z\" fill=\"none\"/>\n",
              "    <path d=\"M18.56 5.44l.94 2.06.94-2.06 2.06-.94-2.06-.94-.94-2.06-.94 2.06-2.06.94zm-11 1L8.5 8.5l.94-2.06 2.06-.94-2.06-.94L8.5 2.5l-.94 2.06-2.06.94zm10 10l.94 2.06.94-2.06 2.06-.94-2.06-.94-.94-2.06-.94 2.06-2.06.94z\"/><path d=\"M17.41 7.96l-1.37-1.37c-.4-.4-.92-.59-1.43-.59-.52 0-1.04.2-1.43.59L10.3 9.45l-7.72 7.72c-.78.78-.78 2.05 0 2.83L4 21.41c.39.39.9.59 1.41.59.51 0 1.02-.2 1.41-.59l7.78-7.78 2.81-2.81c.8-.78.8-2.07 0-2.86zM5.41 20L4 18.59l7.72-7.72 1.47 1.35L5.41 20z\"/>\n",
              "  </svg>\n",
              "      </button>\n",
              "      \n",
              "  <style>\n",
              "    .colab-df-container {\n",
              "      display:flex;\n",
              "      flex-wrap:wrap;\n",
              "      gap: 12px;\n",
              "    }\n",
              "\n",
              "    .colab-df-convert {\n",
              "      background-color: #E8F0FE;\n",
              "      border: none;\n",
              "      border-radius: 50%;\n",
              "      cursor: pointer;\n",
              "      display: none;\n",
              "      fill: #1967D2;\n",
              "      height: 32px;\n",
              "      padding: 0 0 0 0;\n",
              "      width: 32px;\n",
              "    }\n",
              "\n",
              "    .colab-df-convert:hover {\n",
              "      background-color: #E2EBFA;\n",
              "      box-shadow: 0px 1px 2px rgba(60, 64, 67, 0.3), 0px 1px 3px 1px rgba(60, 64, 67, 0.15);\n",
              "      fill: #174EA6;\n",
              "    }\n",
              "\n",
              "    [theme=dark] .colab-df-convert {\n",
              "      background-color: #3B4455;\n",
              "      fill: #D2E3FC;\n",
              "    }\n",
              "\n",
              "    [theme=dark] .colab-df-convert:hover {\n",
              "      background-color: #434B5C;\n",
              "      box-shadow: 0px 1px 3px 1px rgba(0, 0, 0, 0.15);\n",
              "      filter: drop-shadow(0px 1px 2px rgba(0, 0, 0, 0.3));\n",
              "      fill: #FFFFFF;\n",
              "    }\n",
              "  </style>\n",
              "\n",
              "      <script>\n",
              "        const buttonEl =\n",
              "          document.querySelector('#df-c3405db6-c1ba-474b-bc1a-c50b25b6e8f6 button.colab-df-convert');\n",
              "        buttonEl.style.display =\n",
              "          google.colab.kernel.accessAllowed ? 'block' : 'none';\n",
              "\n",
              "        async function convertToInteractive(key) {\n",
              "          const element = document.querySelector('#df-c3405db6-c1ba-474b-bc1a-c50b25b6e8f6');\n",
              "          const dataTable =\n",
              "            await google.colab.kernel.invokeFunction('convertToInteractive',\n",
              "                                                     [key], {});\n",
              "          if (!dataTable) return;\n",
              "\n",
              "          const docLinkHtml = 'Like what you see? Visit the ' +\n",
              "            '<a target=\"_blank\" href=https://colab.research.google.com/notebooks/data_table.ipynb>data table notebook</a>'\n",
              "            + ' to learn more about interactive tables.';\n",
              "          element.innerHTML = '';\n",
              "          dataTable['output_type'] = 'display_data';\n",
              "          await google.colab.output.renderOutput(dataTable, element);\n",
              "          const docLink = document.createElement('div');\n",
              "          docLink.innerHTML = docLinkHtml;\n",
              "          element.appendChild(docLink);\n",
              "        }\n",
              "      </script>\n",
              "    </div>\n",
              "  </div>\n",
              "  "
            ]
          },
          "metadata": {},
          "execution_count": 74
        }
      ]
    },
    {
      "cell_type": "markdown",
      "source": [
        "Al visualizar los datos con este filtro se observan 3 observaciones atípicas con edades de 120, 2017 y 2018 años. Al tratarse de errores en la recolección es necesario eliminar estas observaciones.\n"
      ],
      "metadata": {
        "id": "poHiilJY_XVb"
      }
    },
    {
      "cell_type": "code",
      "source": [
        "icfes.loc[icfes['ESTU_EDAD']> 80].index"
      ],
      "metadata": {
        "colab": {
          "base_uri": "https://localhost:8080/"
        },
        "id": "T-acHN8GkiT6",
        "outputId": "6cabb8ae-2a24-4425-8fba-fd3fd802fceb"
      },
      "execution_count": null,
      "outputs": [
        {
          "output_type": "execute_result",
          "data": {
            "text/plain": [
              "Int64Index([73036, 80700, 87761], dtype='int64')"
            ]
          },
          "metadata": {},
          "execution_count": 75
        }
      ]
    },
    {
      "cell_type": "code",
      "source": [
        "icfes2 = icfes.loc[icfes['ESTU_EDAD']<80]\n",
        "\n",
        "icfes2.describe()"
      ],
      "metadata": {
        "id": "VfgfrIc9AcD_",
        "outputId": "aa911d30-1323-40e9-e738-aece992dbf8f",
        "colab": {
          "base_uri": "https://localhost:8080/",
          "height": 300
        }
      },
      "execution_count": null,
      "outputs": [
        {
          "output_type": "execute_result",
          "data": {
            "text/plain": [
              "         PUNT_GLOBAL      ESTU_EDAD\n",
              "count  100971.000000  100971.000000\n",
              "mean      248.445019      17.595339\n",
              "std        48.740295       2.871913\n",
              "min         0.000000       0.000000\n",
              "25%       211.000000      17.000000\n",
              "50%       245.000000      17.000000\n",
              "75%       282.000000      18.000000\n",
              "max       500.000000      74.000000"
            ],
            "text/html": [
              "\n",
              "  <div id=\"df-560bf31c-5ab6-4464-a6e9-26cfc9dd91e9\">\n",
              "    <div class=\"colab-df-container\">\n",
              "      <div>\n",
              "<style scoped>\n",
              "    .dataframe tbody tr th:only-of-type {\n",
              "        vertical-align: middle;\n",
              "    }\n",
              "\n",
              "    .dataframe tbody tr th {\n",
              "        vertical-align: top;\n",
              "    }\n",
              "\n",
              "    .dataframe thead th {\n",
              "        text-align: right;\n",
              "    }\n",
              "</style>\n",
              "<table border=\"1\" class=\"dataframe\">\n",
              "  <thead>\n",
              "    <tr style=\"text-align: right;\">\n",
              "      <th></th>\n",
              "      <th>PUNT_GLOBAL</th>\n",
              "      <th>ESTU_EDAD</th>\n",
              "    </tr>\n",
              "  </thead>\n",
              "  <tbody>\n",
              "    <tr>\n",
              "      <th>count</th>\n",
              "      <td>100971.000000</td>\n",
              "      <td>100971.000000</td>\n",
              "    </tr>\n",
              "    <tr>\n",
              "      <th>mean</th>\n",
              "      <td>248.445019</td>\n",
              "      <td>17.595339</td>\n",
              "    </tr>\n",
              "    <tr>\n",
              "      <th>std</th>\n",
              "      <td>48.740295</td>\n",
              "      <td>2.871913</td>\n",
              "    </tr>\n",
              "    <tr>\n",
              "      <th>min</th>\n",
              "      <td>0.000000</td>\n",
              "      <td>0.000000</td>\n",
              "    </tr>\n",
              "    <tr>\n",
              "      <th>25%</th>\n",
              "      <td>211.000000</td>\n",
              "      <td>17.000000</td>\n",
              "    </tr>\n",
              "    <tr>\n",
              "      <th>50%</th>\n",
              "      <td>245.000000</td>\n",
              "      <td>17.000000</td>\n",
              "    </tr>\n",
              "    <tr>\n",
              "      <th>75%</th>\n",
              "      <td>282.000000</td>\n",
              "      <td>18.000000</td>\n",
              "    </tr>\n",
              "    <tr>\n",
              "      <th>max</th>\n",
              "      <td>500.000000</td>\n",
              "      <td>74.000000</td>\n",
              "    </tr>\n",
              "  </tbody>\n",
              "</table>\n",
              "</div>\n",
              "      <button class=\"colab-df-convert\" onclick=\"convertToInteractive('df-560bf31c-5ab6-4464-a6e9-26cfc9dd91e9')\"\n",
              "              title=\"Convert this dataframe to an interactive table.\"\n",
              "              style=\"display:none;\">\n",
              "        \n",
              "  <svg xmlns=\"http://www.w3.org/2000/svg\" height=\"24px\"viewBox=\"0 0 24 24\"\n",
              "       width=\"24px\">\n",
              "    <path d=\"M0 0h24v24H0V0z\" fill=\"none\"/>\n",
              "    <path d=\"M18.56 5.44l.94 2.06.94-2.06 2.06-.94-2.06-.94-.94-2.06-.94 2.06-2.06.94zm-11 1L8.5 8.5l.94-2.06 2.06-.94-2.06-.94L8.5 2.5l-.94 2.06-2.06.94zm10 10l.94 2.06.94-2.06 2.06-.94-2.06-.94-.94-2.06-.94 2.06-2.06.94z\"/><path d=\"M17.41 7.96l-1.37-1.37c-.4-.4-.92-.59-1.43-.59-.52 0-1.04.2-1.43.59L10.3 9.45l-7.72 7.72c-.78.78-.78 2.05 0 2.83L4 21.41c.39.39.9.59 1.41.59.51 0 1.02-.2 1.41-.59l7.78-7.78 2.81-2.81c.8-.78.8-2.07 0-2.86zM5.41 20L4 18.59l7.72-7.72 1.47 1.35L5.41 20z\"/>\n",
              "  </svg>\n",
              "      </button>\n",
              "      \n",
              "  <style>\n",
              "    .colab-df-container {\n",
              "      display:flex;\n",
              "      flex-wrap:wrap;\n",
              "      gap: 12px;\n",
              "    }\n",
              "\n",
              "    .colab-df-convert {\n",
              "      background-color: #E8F0FE;\n",
              "      border: none;\n",
              "      border-radius: 50%;\n",
              "      cursor: pointer;\n",
              "      display: none;\n",
              "      fill: #1967D2;\n",
              "      height: 32px;\n",
              "      padding: 0 0 0 0;\n",
              "      width: 32px;\n",
              "    }\n",
              "\n",
              "    .colab-df-convert:hover {\n",
              "      background-color: #E2EBFA;\n",
              "      box-shadow: 0px 1px 2px rgba(60, 64, 67, 0.3), 0px 1px 3px 1px rgba(60, 64, 67, 0.15);\n",
              "      fill: #174EA6;\n",
              "    }\n",
              "\n",
              "    [theme=dark] .colab-df-convert {\n",
              "      background-color: #3B4455;\n",
              "      fill: #D2E3FC;\n",
              "    }\n",
              "\n",
              "    [theme=dark] .colab-df-convert:hover {\n",
              "      background-color: #434B5C;\n",
              "      box-shadow: 0px 1px 3px 1px rgba(0, 0, 0, 0.15);\n",
              "      filter: drop-shadow(0px 1px 2px rgba(0, 0, 0, 0.3));\n",
              "      fill: #FFFFFF;\n",
              "    }\n",
              "  </style>\n",
              "\n",
              "      <script>\n",
              "        const buttonEl =\n",
              "          document.querySelector('#df-560bf31c-5ab6-4464-a6e9-26cfc9dd91e9 button.colab-df-convert');\n",
              "        buttonEl.style.display =\n",
              "          google.colab.kernel.accessAllowed ? 'block' : 'none';\n",
              "\n",
              "        async function convertToInteractive(key) {\n",
              "          const element = document.querySelector('#df-560bf31c-5ab6-4464-a6e9-26cfc9dd91e9');\n",
              "          const dataTable =\n",
              "            await google.colab.kernel.invokeFunction('convertToInteractive',\n",
              "                                                     [key], {});\n",
              "          if (!dataTable) return;\n",
              "\n",
              "          const docLinkHtml = 'Like what you see? Visit the ' +\n",
              "            '<a target=\"_blank\" href=https://colab.research.google.com/notebooks/data_table.ipynb>data table notebook</a>'\n",
              "            + ' to learn more about interactive tables.';\n",
              "          element.innerHTML = '';\n",
              "          dataTable['output_type'] = 'display_data';\n",
              "          await google.colab.output.renderOutput(dataTable, element);\n",
              "          const docLink = document.createElement('div');\n",
              "          docLink.innerHTML = docLinkHtml;\n",
              "          element.appendChild(docLink);\n",
              "        }\n",
              "      </script>\n",
              "    </div>\n",
              "  </div>\n",
              "  "
            ]
          },
          "metadata": {},
          "execution_count": 76
        }
      ]
    },
    {
      "cell_type": "code",
      "source": [
        "icfes.drop(icfes.loc[icfes['ESTU_EDAD']> 80].index).shape"
      ],
      "metadata": {
        "colab": {
          "base_uri": "https://localhost:8080/"
        },
        "id": "JEoiQX33kSWy",
        "outputId": "fa694c82-e5c6-4ad9-8969-2e2e5a186e65"
      },
      "execution_count": null,
      "outputs": [
        {
          "output_type": "execute_result",
          "data": {
            "text/plain": [
              "(100971, 15)"
            ]
          },
          "metadata": {},
          "execution_count": 79
        }
      ]
    },
    {
      "cell_type": "code",
      "source": [
        "sns.boxplot(data=icfes2, x='ESTU_EDAD')"
      ],
      "metadata": {
        "id": "pNjq1FMgAzxr",
        "outputId": "d8206460-f7f7-4967-b880-90b4db49b23d",
        "colab": {
          "base_uri": "https://localhost:8080/",
          "height": 297
        }
      },
      "execution_count": null,
      "outputs": [
        {
          "output_type": "execute_result",
          "data": {
            "text/plain": [
              "<matplotlib.axes._subplots.AxesSubplot at 0x7f05778c3a10>"
            ]
          },
          "metadata": {},
          "execution_count": 80
        },
        {
          "output_type": "display_data",
          "data": {
            "text/plain": [
              "<Figure size 432x288 with 1 Axes>"
            ],
            "image/png": "[encoded data removed]"
          },
          "metadata": {
            "needs_background": "light"
          }
        }
      ]
    },
    {
      "cell_type": "markdown",
      "source": [
        "Se puede observar que existen observaciones con edades desde 0 años, ¿qué tratamiento le daría estas observaciones con edades sospechosamente bajas?"
      ],
      "metadata": {
        "id": "xVyLzmx9A7rE"
      }
    },
    {
      "cell_type": "code",
      "source": [
        "icfes.loc[icfes['ESTU_EDAD'] < 14].shape"
      ],
      "metadata": {
        "id": "shkwK-WCA6wF",
        "outputId": "5771a207-ce5a-4972-d1a3-82fb42ec7dd6",
        "colab": {
          "base_uri": "https://localhost:8080/"
        }
      },
      "execution_count": null,
      "outputs": [
        {
          "output_type": "execute_result",
          "data": {
            "text/plain": [
              "(60, 15)"
            ]
          },
          "metadata": {},
          "execution_count": 81
        }
      ]
    },
    {
      "cell_type": "markdown",
      "source": [
        "### Inspección y corrección de valores faltantes\n",
        "\n",
        "Para corregir los valores faltantes hay varias alternativas, a continuación también se mencionan las funciones de la librería pandas que se emplean en cada caso:\n",
        "\n",
        "* Eliminar los registros con NAs - `dropna()`\n",
        "* Reemplazar por un valor constante (la media, la mediana, la moda o un valor personalizado) - `fillna()`\n",
        "* Reemplazar por el último valor no faltante - `fillna()` esta solución es especialmente útil para series de tiempo, o conjuntos de datos altamente correlacionados.\n",
        "* Utilizar modelos predictivos para hacer la imputación de valores faltantes.\n",
        "\n",
        "Ahora debemos hacer un conteo de los valores faltantes por cada variable. Tenga presente que existen varios tipos de valores nulos: None, NaN y NA. NA es la representación más utilizada."
      ],
      "metadata": {
        "id": "M8BvHKbPBJAd"
      }
    },
    {
      "cell_type": "code",
      "source": [
        "icfes2.shape"
      ],
      "metadata": {
        "colab": {
          "base_uri": "https://localhost:8080/"
        },
        "id": "F1prlzM__h24",
        "outputId": "9b97d4c7-36b8-44e9-ceea-c0c18fd06766"
      },
      "execution_count": null,
      "outputs": [
        {
          "output_type": "execute_result",
          "data": {
            "text/plain": [
              "(100971, 15)"
            ]
          },
          "metadata": {},
          "execution_count": 82
        }
      ]
    },
    {
      "cell_type": "code",
      "source": [
        "icfes2.isnull().sum().sort_values(ascending = False)"
      ],
      "metadata": {
        "colab": {
          "base_uri": "https://localhost:8080/"
        },
        "id": "S9EBEdu0_uhr",
        "outputId": "7b676933-6ae3-4cc7-b926-a8ae9d39332e"
      },
      "execution_count": null,
      "outputs": [
        {
          "output_type": "execute_result",
          "data": {
            "text/plain": [
              "FAMI_TIENECOMPUTADOR    4046\n",
              "FAMI_ESTRATOVIVIENDA    3398\n",
              "FAMI_EDUCACIONMADRE     2707\n",
              "FAMI_TIENEINTERNET      2700\n",
              "FAMI_EDUCACIONPADRE     2601\n",
              "ESTU_TIENEETNIA          610\n",
              "ESTU_GENERO                2\n",
              "ESTU_FECHANACIMIENTO       0\n",
              "ESTU_DEPTO_RESIDE          0\n",
              "COLE_NATURALEZA            0\n",
              "COLE_AREA_UBICACION        0\n",
              "COLE_JORNADA               0\n",
              "PUNT_GLOBAL                0\n",
              "ESTU_GENERACION-E          0\n",
              "ESTU_EDAD                  0\n",
              "dtype: int64"
            ]
          },
          "metadata": {},
          "execution_count": 83
        }
      ]
    },
    {
      "cell_type": "code",
      "source": [
        "icfes2.isnull().sum()*100/ icfes2.shape[0]"
      ],
      "metadata": {
        "id": "_MviT7IlBUeR",
        "outputId": "4545c938-173d-4b46-ec1e-6fec3f25afa8",
        "colab": {
          "base_uri": "https://localhost:8080/"
        }
      },
      "execution_count": null,
      "outputs": [
        {
          "output_type": "execute_result",
          "data": {
            "text/plain": [
              "ESTU_GENERO             0.001981\n",
              "ESTU_FECHANACIMIENTO    0.000000\n",
              "ESTU_TIENEETNIA         0.604134\n",
              "ESTU_DEPTO_RESIDE       0.000000\n",
              "FAMI_ESTRATOVIVIENDA    3.365323\n",
              "FAMI_EDUCACIONPADRE     2.575987\n",
              "FAMI_EDUCACIONMADRE     2.680968\n",
              "FAMI_TIENEINTERNET      2.674035\n",
              "FAMI_TIENECOMPUTADOR    4.007091\n",
              "COLE_NATURALEZA         0.000000\n",
              "COLE_AREA_UBICACION     0.000000\n",
              "COLE_JORNADA            0.000000\n",
              "PUNT_GLOBAL             0.000000\n",
              "ESTU_GENERACION-E       0.000000\n",
              "ESTU_EDAD               0.000000\n",
              "dtype: float64"
            ]
          },
          "metadata": {},
          "execution_count": 84
        }
      ]
    },
    {
      "cell_type": "markdown",
      "source": [
        "La forma más sencilla para lidiar con los NAs es eliminándolos del dataset. En este caso pasamos de 100.971 observaciones a 94.912. Tan solo perdimos el 6% de los datos. Algunos modelos como el de regresión lineal `lm()` permiten lidiar con los NAs de varias formas, sin embargo en la gran mayoría de algoritmos hay que lidiar con esta situación antes del modelamiento."
      ],
      "metadata": {
        "id": "rRlldQ2GCWYN"
      }
    },
    {
      "cell_type": "code",
      "source": [
        "# Con la opci´´on inplace = True puede modificar el dataset original\n",
        "\n",
        "icfes_nona = icfes2.dropna()\n",
        "\n",
        "print(icfes_nona.isnull().sum())\n",
        "print(icfes2.shape)\n",
        "print(icfes_nona.shape)"
      ],
      "metadata": {
        "id": "22E-JHqOCX4h",
        "outputId": "de17507e-3202-49af-a5bf-c9e7f87a1d85",
        "colab": {
          "base_uri": "https://localhost:8080/"
        }
      },
      "execution_count": null,
      "outputs": [
        {
          "output_type": "stream",
          "name": "stdout",
          "text": [
            "ESTU_GENERO             0\n",
            "ESTU_FECHANACIMIENTO    0\n",
            "ESTU_TIENEETNIA         0\n",
            "ESTU_DEPTO_RESIDE       0\n",
            "FAMI_ESTRATOVIVIENDA    0\n",
            "FAMI_EDUCACIONPADRE     0\n",
            "FAMI_EDUCACIONMADRE     0\n",
            "FAMI_TIENEINTERNET      0\n",
            "FAMI_TIENECOMPUTADOR    0\n",
            "COLE_NATURALEZA         0\n",
            "COLE_AREA_UBICACION     0\n",
            "COLE_JORNADA            0\n",
            "PUNT_GLOBAL             0\n",
            "ESTU_GENERACION-E       0\n",
            "ESTU_EDAD               0\n",
            "dtype: int64\n",
            "(100971, 15)\n",
            "(94912, 15)\n"
          ]
        }
      ]
    },
    {
      "cell_type": "markdown",
      "source": [
        "Es conveniente contar cuantos NAs existen en una observación determinada, por ejemplo hay 3269 observaciones con 1 solo valor faltante, observaciones con múltiples valores faltantes son dificilmente rescatables ya que hay demasiada información que recuperar. Estos casos pueden ser imputados utilizando modelos predictivos"
      ],
      "metadata": {
        "id": "McABh4YhD8ja"
      }
    },
    {
      "cell_type": "code",
      "source": [
        "icfes2.isnull().sum(axis = 1)"
      ],
      "metadata": {
        "colab": {
          "base_uri": "https://localhost:8080/"
        },
        "id": "CHjVQfi0q5hO",
        "outputId": "b39b8ab1-f9e4-4c1b-ac7a-9bc86184fb7f"
      },
      "execution_count": null,
      "outputs": [
        {
          "output_type": "execute_result",
          "data": {
            "text/plain": [
              "0         0\n",
              "1         0\n",
              "2         0\n",
              "3         0\n",
              "4         0\n",
              "         ..\n",
              "100969    0\n",
              "100970    0\n",
              "100971    0\n",
              "100972    0\n",
              "100973    0\n",
              "Length: 100971, dtype: int64"
            ]
          },
          "metadata": {},
          "execution_count": 86
        }
      ]
    },
    {
      "cell_type": "code",
      "source": [
        "icfes2.isnull().sum(axis = 1).value_counts()"
      ],
      "metadata": {
        "colab": {
          "base_uri": "https://localhost:8080/"
        },
        "id": "wbanwkccp74P",
        "outputId": "d055620d-7c6d-44a7-f6c6-d2ecc1461631"
      },
      "execution_count": null,
      "outputs": [
        {
          "output_type": "execute_result",
          "data": {
            "text/plain": [
              "0    94912\n",
              "1     3269\n",
              "5     2305\n",
              "2      331\n",
              "3       68\n",
              "4       56\n",
              "6       30\n",
              "dtype: int64"
            ]
          },
          "metadata": {},
          "execution_count": 87
        }
      ]
    },
    {
      "cell_type": "code",
      "source": [
        "# Filtro para encontrar observaciones con 5 valores faltantes\n",
        "\n",
        "icfes2[icfes2.isnull().sum(axis = 1) == 5].index"
      ],
      "metadata": {
        "colab": {
          "base_uri": "https://localhost:8080/"
        },
        "id": "20in4NXgrDOQ",
        "outputId": "f1e77599-6c23-4bb4-84bb-ae8e4f50518a"
      },
      "execution_count": null,
      "outputs": [
        {
          "output_type": "execute_result",
          "data": {
            "text/plain": [
              "Int64Index([    16,     34,     74,     95,    131,    216,    258,    381,\n",
              "               386,    483,\n",
              "            ...\n",
              "            100644, 100714, 100751, 100752, 100809, 100829, 100832, 100892,\n",
              "            100915, 100939],\n",
              "           dtype='int64', length=2305)"
            ]
          },
          "metadata": {},
          "execution_count": 88
        }
      ]
    },
    {
      "cell_type": "markdown",
      "source": [
        "En algunos casos se puede reemplazar los NAs por la mediana o media en el caso de variables cuantitativas, o por la moda en el caso de variables cualitativas, a continuacón vamos a reemplazar los valores faltantes de la variable `ESTU_TIENEETNIA` por la moda que es \"No\"."
      ],
      "metadata": {
        "id": "GfHBEUlNEEUd"
      }
    },
    {
      "cell_type": "code",
      "source": [
        "icfes2['ESTU_TIENEETNIA'].value_counts(normalize = True)"
      ],
      "metadata": {
        "id": "fxFIH1TWEJJQ",
        "outputId": "3ae3aefa-6bdf-40a4-d4dd-fa3ae10529fb",
        "colab": {
          "base_uri": "https://localhost:8080/"
        }
      },
      "execution_count": null,
      "outputs": [
        {
          "output_type": "execute_result",
          "data": {
            "text/plain": [
              "No    0.936519\n",
              "Si    0.063481\n",
              "Name: ESTU_TIENEETNIA, dtype: float64"
            ]
          },
          "metadata": {},
          "execution_count": 89
        }
      ]
    },
    {
      "cell_type": "code",
      "source": [
        "icfes2['ESTU_TIENEETNIA'] = icfes2['ESTU_TIENEETNIA'].fillna(value = 'No')\n",
        "\n",
        "# Se cuentan la cantidad de valores nulos en la variable ESTU_TIENEETINA\n",
        "\n",
        "icfes2['ESTU_TIENEETNIA'].isnull().sum()"
      ],
      "metadata": {
        "id": "HxBTFD_6EfNb",
        "outputId": "91158324-8edb-471f-f28d-9153afdfebb6",
        "colab": {
          "base_uri": "https://localhost:8080/"
        }
      },
      "execution_count": null,
      "outputs": [
        {
          "output_type": "execute_result",
          "data": {
            "text/plain": [
              "0"
            ]
          },
          "metadata": {},
          "execution_count": 90
        }
      ]
    },
    {
      "cell_type": "markdown",
      "source": [
        "## **4. Dataset air london**"
      ],
      "metadata": {
        "id": "uuVTlcHSE9_n"
      }
    },
    {
      "cell_type": "code",
      "source": [
        "air.describe()"
      ],
      "metadata": {
        "id": "Z-NIqL_UFA3B",
        "outputId": "9fec91fa-3b3b-4c05-cafd-175a56f088a9",
        "colab": {
          "base_uri": "https://localhost:8080/",
          "height": 300
        }
      },
      "execution_count": null,
      "outputs": [
        {
          "output_type": "execute_result",
          "data": {
            "text/plain": [
              "              Value\n",
              "count  32136.000000\n",
              "mean      15.596621\n",
              "std       10.442254\n",
              "min       -3.000000\n",
              "25%        9.000000\n",
              "50%       13.000000\n",
              "75%       18.000000\n",
              "max      194.000000"
            ],
            "text/html": [
              "\n",
              "  <div id=\"df-c9475e77-046a-477b-b284-91b526881692\">\n",
              "    <div class=\"colab-df-container\">\n",
              "      <div>\n",
              "<style scoped>\n",
              "    .dataframe tbody tr th:only-of-type {\n",
              "        vertical-align: middle;\n",
              "    }\n",
              "\n",
              "    .dataframe tbody tr th {\n",
              "        vertical-align: top;\n",
              "    }\n",
              "\n",
              "    .dataframe thead th {\n",
              "        text-align: right;\n",
              "    }\n",
              "</style>\n",
              "<table border=\"1\" class=\"dataframe\">\n",
              "  <thead>\n",
              "    <tr style=\"text-align: right;\">\n",
              "      <th></th>\n",
              "      <th>Value</th>\n",
              "    </tr>\n",
              "  </thead>\n",
              "  <tbody>\n",
              "    <tr>\n",
              "      <th>count</th>\n",
              "      <td>32136.000000</td>\n",
              "    </tr>\n",
              "    <tr>\n",
              "      <th>mean</th>\n",
              "      <td>15.596621</td>\n",
              "    </tr>\n",
              "    <tr>\n",
              "      <th>std</th>\n",
              "      <td>10.442254</td>\n",
              "    </tr>\n",
              "    <tr>\n",
              "      <th>min</th>\n",
              "      <td>-3.000000</td>\n",
              "    </tr>\n",
              "    <tr>\n",
              "      <th>25%</th>\n",
              "      <td>9.000000</td>\n",
              "    </tr>\n",
              "    <tr>\n",
              "      <th>50%</th>\n",
              "      <td>13.000000</td>\n",
              "    </tr>\n",
              "    <tr>\n",
              "      <th>75%</th>\n",
              "      <td>18.000000</td>\n",
              "    </tr>\n",
              "    <tr>\n",
              "      <th>max</th>\n",
              "      <td>194.000000</td>\n",
              "    </tr>\n",
              "  </tbody>\n",
              "</table>\n",
              "</div>\n",
              "      <button class=\"colab-df-convert\" onclick=\"convertToInteractive('df-c9475e77-046a-477b-b284-91b526881692')\"\n",
              "              title=\"Convert this dataframe to an interactive table.\"\n",
              "              style=\"display:none;\">\n",
              "        \n",
              "  <svg xmlns=\"http://www.w3.org/2000/svg\" height=\"24px\"viewBox=\"0 0 24 24\"\n",
              "       width=\"24px\">\n",
              "    <path d=\"M0 0h24v24H0V0z\" fill=\"none\"/>\n",
              "    <path d=\"M18.56 5.44l.94 2.06.94-2.06 2.06-.94-2.06-.94-.94-2.06-.94 2.06-2.06.94zm-11 1L8.5 8.5l.94-2.06 2.06-.94-2.06-.94L8.5 2.5l-.94 2.06-2.06.94zm10 10l.94 2.06.94-2.06 2.06-.94-2.06-.94-.94-2.06-.94 2.06-2.06.94z\"/><path d=\"M17.41 7.96l-1.37-1.37c-.4-.4-.92-.59-1.43-.59-.52 0-1.04.2-1.43.59L10.3 9.45l-7.72 7.72c-.78.78-.78 2.05 0 2.83L4 21.41c.39.39.9.59 1.41.59.51 0 1.02-.2 1.41-.59l7.78-7.78 2.81-2.81c.8-.78.8-2.07 0-2.86zM5.41 20L4 18.59l7.72-7.72 1.47 1.35L5.41 20z\"/>\n",
              "  </svg>\n",
              "      </button>\n",
              "      \n",
              "  <style>\n",
              "    .colab-df-container {\n",
              "      display:flex;\n",
              "      flex-wrap:wrap;\n",
              "      gap: 12px;\n",
              "    }\n",
              "\n",
              "    .colab-df-convert {\n",
              "      background-color: #E8F0FE;\n",
              "      border: none;\n",
              "      border-radius: 50%;\n",
              "      cursor: pointer;\n",
              "      display: none;\n",
              "      fill: #1967D2;\n",
              "      height: 32px;\n",
              "      padding: 0 0 0 0;\n",
              "      width: 32px;\n",
              "    }\n",
              "\n",
              "    .colab-df-convert:hover {\n",
              "      background-color: #E2EBFA;\n",
              "      box-shadow: 0px 1px 2px rgba(60, 64, 67, 0.3), 0px 1px 3px 1px rgba(60, 64, 67, 0.15);\n",
              "      fill: #174EA6;\n",
              "    }\n",
              "\n",
              "    [theme=dark] .colab-df-convert {\n",
              "      background-color: #3B4455;\n",
              "      fill: #D2E3FC;\n",
              "    }\n",
              "\n",
              "    [theme=dark] .colab-df-convert:hover {\n",
              "      background-color: #434B5C;\n",
              "      box-shadow: 0px 1px 3px 1px rgba(0, 0, 0, 0.15);\n",
              "      filter: drop-shadow(0px 1px 2px rgba(0, 0, 0, 0.3));\n",
              "      fill: #FFFFFF;\n",
              "    }\n",
              "  </style>\n",
              "\n",
              "      <script>\n",
              "        const buttonEl =\n",
              "          document.querySelector('#df-c9475e77-046a-477b-b284-91b526881692 button.colab-df-convert');\n",
              "        buttonEl.style.display =\n",
              "          google.colab.kernel.accessAllowed ? 'block' : 'none';\n",
              "\n",
              "        async function convertToInteractive(key) {\n",
              "          const element = document.querySelector('#df-c9475e77-046a-477b-b284-91b526881692');\n",
              "          const dataTable =\n",
              "            await google.colab.kernel.invokeFunction('convertToInteractive',\n",
              "                                                     [key], {});\n",
              "          if (!dataTable) return;\n",
              "\n",
              "          const docLinkHtml = 'Like what you see? Visit the ' +\n",
              "            '<a target=\"_blank\" href=https://colab.research.google.com/notebooks/data_table.ipynb>data table notebook</a>'\n",
              "            + ' to learn more about interactive tables.';\n",
              "          element.innerHTML = '';\n",
              "          dataTable['output_type'] = 'display_data';\n",
              "          await google.colab.output.renderOutput(dataTable, element);\n",
              "          const docLink = document.createElement('div');\n",
              "          docLink.innerHTML = docLinkHtml;\n",
              "          element.appendChild(docLink);\n",
              "        }\n",
              "      </script>\n",
              "    </div>\n",
              "  </div>\n",
              "  "
            ]
          },
          "metadata": {},
          "execution_count": 91
        }
      ]
    },
    {
      "cell_type": "markdown",
      "source": [
        "En el resumen se puede observar que todas las mediciones fueron realizadas en el mismo sitio, solo hay una especie medida que es PM2.5, la unidad es la misma en todos los casos y las mediciones ratificadas. Las únicas variables útiles son `ReadingDateTime` y `Value`. En el caso de `Value` se observa que tiene 2904 NAs, a continuación se muestra como hacer el reemplazo por la mediana usando `replace_na` y `fill`. Al tratarse de una serie de tiempo, la opción de llenado con `fill` es la más indicada."
      ],
      "metadata": {
        "id": "uBu8y8yjEF2j"
      }
    },
    {
      "cell_type": "markdown",
      "source": [
        "### Reemplazo con la mediana"
      ],
      "metadata": {
        "id": "yvH2C-FNFJdO"
      }
    },
    {
      "cell_type": "code",
      "source": [
        "air.isnull().sum()"
      ],
      "metadata": {
        "colab": {
          "base_uri": "https://localhost:8080/"
        },
        "id": "xdJQZ1_rCPXX",
        "outputId": "b2d80c73-3305-46a8-a1f0-0f7272445258"
      },
      "execution_count": null,
      "outputs": [
        {
          "output_type": "execute_result",
          "data": {
            "text/plain": [
              "Site                          0\n",
              "Species                       0\n",
              "ReadingDateTime               0\n",
              "Value                      2904\n",
              "Units                         0\n",
              "Provisional or Ratified       0\n",
              "dtype: int64"
            ]
          },
          "metadata": {},
          "execution_count": 92
        }
      ]
    },
    {
      "cell_type": "code",
      "source": [
        "air.isnull().sum()*100/air.shape[0]"
      ],
      "metadata": {
        "colab": {
          "base_uri": "https://localhost:8080/"
        },
        "id": "99LIPp7kFZCX",
        "outputId": "1af7cfec-4944-4cfe-9174-bf93a699131e"
      },
      "execution_count": null,
      "outputs": [
        {
          "output_type": "execute_result",
          "data": {
            "text/plain": [
              "Site                       0.000000\n",
              "Species                    0.000000\n",
              "ReadingDateTime            0.000000\n",
              "Value                      8.287671\n",
              "Units                      0.000000\n",
              "Provisional or Ratified    0.000000\n",
              "dtype: float64"
            ]
          },
          "metadata": {},
          "execution_count": 93
        }
      ]
    },
    {
      "cell_type": "code",
      "source": [
        "# Se crea una copia del dataset\n",
        "air_median = air\n",
        "\n",
        "air_median['Value'].median()"
      ],
      "metadata": {
        "colab": {
          "base_uri": "https://localhost:8080/"
        },
        "id": "6x1IzQglF68n",
        "outputId": "33caf380-c10b-480c-bfee-f624dda6d3c9"
      },
      "execution_count": null,
      "outputs": [
        {
          "output_type": "execute_result",
          "data": {
            "text/plain": [
              "13.0"
            ]
          },
          "metadata": {},
          "execution_count": 94
        }
      ]
    },
    {
      "cell_type": "code",
      "source": [
        "# Este método solo se aplicará sobre variables numéricas\n",
        "air_median = air.fillna(13)\n",
        "\n",
        "air_median.isnull().sum()"
      ],
      "metadata": {
        "id": "nb1Vm7qyFJFW",
        "outputId": "7c58e670-6abc-4ad5-d0c6-187f9367bc5d",
        "colab": {
          "base_uri": "https://localhost:8080/"
        }
      },
      "execution_count": null,
      "outputs": [
        {
          "output_type": "execute_result",
          "data": {
            "text/plain": [
              "Site                       0\n",
              "Species                    0\n",
              "ReadingDateTime            0\n",
              "Value                      0\n",
              "Units                      0\n",
              "Provisional or Ratified    0\n",
              "dtype: int64"
            ]
          },
          "metadata": {},
          "execution_count": 95
        }
      ]
    },
    {
      "cell_type": "markdown",
      "source": [
        "### Reemplazo con `fillna`"
      ],
      "metadata": {
        "id": "RcPCOvoKGojc"
      }
    },
    {
      "cell_type": "markdown",
      "source": [
        "Se pueden reemplazar los valores faltantes con las entradas previas o siguientes. Para más información de la función `fillna` consulte [aquí](https://pandas.pydata.org/docs/reference/api/pandas.DataFrame.fillna.html)."
      ],
      "metadata": {
        "id": "g3NmFzRmGsQN"
      }
    },
    {
      "cell_type": "code",
      "source": [
        "# con inplace=True se cambiar permanentemente el dataset\n",
        "# el método ffill -forward fill- propaga la última observación válida para hacer el reemplazo\n",
        "air.fillna(method='ffill', inplace=True)\n",
        "\n",
        "air.isnull().sum()"
      ],
      "metadata": {
        "id": "K4CQyduTG3sA",
        "outputId": "133fa9a6-2b39-4b22-8352-6333f21fe86b",
        "colab": {
          "base_uri": "https://localhost:8080/"
        }
      },
      "execution_count": null,
      "outputs": [
        {
          "output_type": "execute_result",
          "data": {
            "text/plain": [
              "Site                       0\n",
              "Species                    0\n",
              "ReadingDateTime            0\n",
              "Value                      0\n",
              "Units                      0\n",
              "Provisional or Ratified    0\n",
              "dtype: int64"
            ]
          },
          "metadata": {},
          "execution_count": 96
        }
      ]
    },
    {
      "cell_type": "code",
      "source": [
        "air.ReadingDateTime = pd.to_datetime(air.ReadingDateTime,\n",
        "                                     infer_datetime_format = True)"
      ],
      "metadata": {
        "id": "R18QTsVUuA7P"
      },
      "execution_count": null,
      "outputs": []
    },
    {
      "cell_type": "code",
      "source": [
        "air.ReadingDateTime.dt.month"
      ],
      "metadata": {
        "colab": {
          "base_uri": "https://localhost:8080/"
        },
        "id": "4LLvMHnDueD7",
        "outputId": "bfea40a1-78ca-4ba0-ecf4-e2162b569edf"
      },
      "execution_count": null,
      "outputs": [
        {
          "output_type": "execute_result",
          "data": {
            "text/plain": [
              "0         1\n",
              "1         1\n",
              "2         1\n",
              "3         1\n",
              "4         1\n",
              "         ..\n",
              "35035    12\n",
              "35036    12\n",
              "35037    12\n",
              "35038    12\n",
              "35039    12\n",
              "Name: ReadingDateTime, Length: 35040, dtype: int64"
            ]
          },
          "metadata": {},
          "execution_count": 109
        }
      ]
    },
    {
      "cell_type": "markdown",
      "source": [
        "**Créditos**\n",
        "---\n",
        "\n",
        "**Profesor:** Harry Vargas Rodríguez\n",
        "\n",
        "**Corporación Universitaria de Cataluña** - *Diplomado en Big Data y Data Science*"
      ],
      "metadata": {
        "id": "4j2fr-wpGt59"
      }
    }
  ]
}